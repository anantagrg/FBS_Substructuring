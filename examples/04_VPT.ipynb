{
 "cells": [
  {
   "cell_type": "markdown",
   "metadata": {},
   "source": [
    "# 04 Virtual point transformation (VPT)\n",
    "With the `pyFBS` the aplication of the virtual point transformation (VPT) is simple. For more details on the virtual point transformation, refer to the documentation."
   ]
  },
  {
   "cell_type": "code",
   "execution_count": 2,
   "metadata": {},
   "outputs": [],
   "source": [
    "import pyFBS\n",
    "\n",
    "import pandas as pd\n",
    "import numpy as np\n",
    "import matplotlib.pyplot as plt\n",
    "%matplotlib inline"
   ]
  },
  {
   "cell_type": "markdown",
   "metadata": {},
   "source": [
    "## Numerical example\n",
    "First load a predefined datasets from an example directory. "
   ]
  },
  {
   "cell_type": "code",
   "execution_count": 3,
   "metadata": {},
   "outputs": [
    {
     "name": "stderr",
     "output_type": "stream",
     "text": [
      "100%|██████████████████████████████████████████████████████████████████████████████████| 6/6 [00:00<00:00, 5987.59it/s]\n",
      "100%|██████████████████████████████████████████████████████████████████████████████████| 3/3 [00:00<00:00, 5986.16it/s]\n",
      "100%|██████████████████████████████████████████████████████████████████████████████████| 7/7 [00:00<00:00, 6983.86it/s]"
     ]
    },
    {
     "name": "stdout",
     "output_type": "stream",
     "text": [
      "Downloading FEM files\n",
      "Downloading STL files\n",
      "Downloading Measurements files\n"
     ]
    },
    {
     "name": "stderr",
     "output_type": "stream",
     "text": [
      "\n"
     ]
    }
   ],
   "source": [
    "pyFBS.download_lab_testbench()"
   ]
  },
  {
   "cell_type": "code",
   "execution_count": 4,
   "metadata": {},
   "outputs": [],
   "source": [
    "stl = r\"./lab_testbench/STL/B.stl\"\n",
    "xlsx_pos = r\"./lab_testbench/Measurements/AM_measurements.xlsx\"\n",
    "\n",
    "full_file = r\"./lab_testbench/FEM/B.full\"\n",
    "ress_file = r\"./lab_testbench/FEM/B.rst\""
   ]
  },
  {
   "cell_type": "markdown",
   "metadata": {},
   "source": [
    "#### MK model\n",
    "Prepeare a MK model for the FRF synthetization. For more details check-out the *03_FRF_synthetization.ipynb* example. "
   ]
  },
  {
   "cell_type": "code",
   "execution_count": 5,
   "metadata": {},
   "outputs": [
    {
     "name": "stderr",
     "output_type": "stream",
     "text": [
      "C:\\Users\\tomaz.bregar\\Anaconda3\\lib\\site-packages\\pyvista\\core\\pointset.py:610: UserWarning: VTK 9 no longer accepts an offset array\n",
      "  warnings.warn('VTK 9 no longer accepts an offset array')\n"
     ]
    }
   ],
   "source": [
    "MK = pyFBS.MK_model(ress_file,full_file,no_modes = 100,recalculate = False)"
   ]
  },
  {
   "cell_type": "markdown",
   "metadata": {},
   "source": [
    "Add a STL and a coresponding mesh from FEM to the 3D view:"
   ]
  },
  {
   "cell_type": "code",
   "execution_count": 6,
   "metadata": {},
   "outputs": [],
   "source": [
    "view3D = pyFBS.view3D(show_origin= True)\n",
    "mesh = view3D.add_stl(stl,name = \"engine_mount\",color = \"#8FB1CC\",opacity = .1)\n",
    "view3D.plot.add_mesh(MK.mesh, scalars = np.zeros(MK.mesh.points.shape[0]),show_scalar_bar = False,name = \"mesh\",cmap = \"coolwarm\",show_edges = True);"
   ]
  },
  {
   "cell_type": "markdown",
   "metadata": {},
   "source": [
    "To evaluate the FEM model the mode shapes can be animated: "
   ]
  },
  {
   "cell_type": "code",
   "execution_count": 7,
   "metadata": {},
   "outputs": [],
   "source": [
    "select_mode = 6\n",
    "_modeshape = MK.get_modeshape(select_mode)\n",
    "\n",
    "mode_dict = pyFBS.utility.dict_animation(_modeshape,\"modeshape\",pts = MK.pts.copy(),mesh = MK.mesh)\n",
    "view3D.add_modeshape(mode_dict,run_animation = True)"
   ]
  },
  {
   "cell_type": "markdown",
   "metadata": {},
   "source": [
    "The mode shape deformation can also be cleared from the display:"
   ]
  },
  {
   "cell_type": "code",
   "execution_count": 8,
   "metadata": {},
   "outputs": [],
   "source": [
    "view3D.clear_modeshape()"
   ]
  },
  {
   "cell_type": "markdown",
   "metadata": {},
   "source": [
    "Load the channel and datasets."
   ]
  },
  {
   "cell_type": "code",
   "execution_count": 9,
   "metadata": {},
   "outputs": [],
   "source": [
    "df_imp = pd.read_excel(xlsx_pos, sheet_name='Impacts_B')\n",
    "df_chn = pd.read_excel(xlsx_pos, sheet_name='Channels_B')\n",
    "\n",
    "#view3D.show_imp(df_imp,overwrite = True)\n",
    "#view3D.show_chn(df_chn)"
   ]
  },
  {
   "cell_type": "markdown",
   "metadata": {},
   "source": [
    "Currently only \"snap-to-node\" FRF synthetization is supported. Therefore, the locations of the channels and impacts have to updated to snap to the nearest node from FEM model."
   ]
  },
  {
   "cell_type": "code",
   "execution_count": 10,
   "metadata": {},
   "outputs": [],
   "source": [
    "df_chn_up = MK.update_locations_df(df_chn)\n",
    "df_imp_up = MK.update_locations_df(df_imp)\n",
    "\n",
    "#view3D.show_chn(df_chn_up, color = \"k\",overwrite = False)\n",
    "#view3D.show_imp(df_imp_up, color = \"k\",overwrite = False)"
   ]
  },
  {
   "cell_type": "markdown",
   "metadata": {},
   "source": [
    "#### FRF synthetization\n",
    "Finnaly the FRFs synthetization at the channel/impact DoFs:"
   ]
  },
  {
   "cell_type": "code",
   "execution_count": 11,
   "metadata": {},
   "outputs": [],
   "source": [
    "MK.FRF_synth(df_chn_up,df_imp_up,f_start = 0,modal_damping = 0.003,frf_type = \"accelerance\")"
   ]
  },
  {
   "cell_type": "markdown",
   "metadata": {},
   "source": [
    "## Virtual point transformation \n",
    "For the VPT the information on the position/orientation is required, together with the corresponding channel/impact information. Care should be take that the correct *Grouping* number is assigned to obtain the correct transformation. Currently only rigid body IDMs can be used in the transformation. "
   ]
  },
  {
   "cell_type": "code",
   "execution_count": 12,
   "metadata": {},
   "outputs": [],
   "source": [
    "df_vp = pd.read_excel(xlsx_pos, sheet_name='VP_Channels')\n",
    "df_vpref = pd.read_excel(xlsx_pos, sheet_name='VP_RefChannels')\n",
    "\n",
    "vpt = pyFBS.VPT(df_chn_up,df_imp_up,df_vp,df_vpref)"
   ]
  },
  {
   "cell_type": "markdown",
   "metadata": {},
   "source": [
    "Final application of the VPT on the FRFs matrix is relatively simple:"
   ]
  },
  {
   "cell_type": "code",
   "execution_count": 13,
   "metadata": {},
   "outputs": [],
   "source": [
    "vpt.apply_VPT(MK.freq,MK.FRF)"
   ]
  },
  {
   "cell_type": "markdown",
   "metadata": {},
   "source": [
    "Display the FRFs from the new virtual DoFs:"
   ]
  },
  {
   "cell_type": "code",
   "execution_count": 14,
   "metadata": {},
   "outputs": [
    {
     "data": {
      "text/plain": [
       "[<matplotlib.lines.Line2D at 0x1417963d348>]"
      ]
     },
     "execution_count": 14,
     "metadata": {},
     "output_type": "execute_result"
    },
    {
     "data": {
      "image/png": "[encoded data removed]",
      "text/plain": [
       "<Figure size 576x432 with 2 Axes>"
      ]
     },
     "metadata": {
      "needs_background": "light"
     },
     "output_type": "display_data"
    }
   ],
   "source": [
    "select_out = 5\n",
    "select_in = 2\n",
    "\n",
    "plt.figure(figsize = (8,6))\n",
    "plt.subplot(211)\n",
    "plt.semilogy(vpt.freq,np.abs(vpt.vptData[:,select_out,select_in]))\n",
    "plt.semilogy(vpt.freq,np.abs(vpt.vptData[:,select_out,select_in]),'--',label = \"filtered\")\n",
    "\n",
    "plt.subplot(413)\n",
    "plt.plot(vpt.freq,np.angle(vpt.vptData[:,select_out,select_in]))\n",
    "plt.plot(vpt.freq,np.angle(vpt.vptData[:,select_out,select_in]),'--',label = \"filtered\")"
   ]
  },
  {
   "cell_type": "markdown",
   "metadata": {},
   "source": [
    "#### Consistency of the VPT\n",
    "The evaluation of consistency of the VPT based on the grouping number:"
   ]
  },
  {
   "cell_type": "code",
   "execution_count": 15,
   "metadata": {},
   "outputs": [],
   "source": [
    "vpt.consistency([1],[1])"
   ]
  },
  {
   "cell_type": "markdown",
   "metadata": {},
   "source": [
    "Specific channel/sensor and impact consistency"
   ]
  },
  {
   "cell_type": "code",
   "execution_count": 16,
   "metadata": {},
   "outputs": [
    {
     "data": {
      "text/plain": [
       "Text(0.5, 1.0, 'Specific impact consistency')"
      ]
     },
     "execution_count": 16,
     "metadata": {},
     "output_type": "execute_result"
    },
    {
     "data": {
      "image/png": "[encoded data removed]",
      "text/plain": [
       "<Figure size 720x172.8 with 2 Axes>"
      ]
     },
     "metadata": {
      "needs_background": "light"
     },
     "output_type": "display_data"
    }
   ],
   "source": [
    "plt.figure(figsize = (10,2.4))\n",
    "plt.subplot(121)\n",
    "plt.bar(range(9),vpt.specific_sensor,color = \"tab:blue\")\n",
    "plt.xticks(range(9))\n",
    "plt.title(\"Specific channel consistency\")\n",
    "\n",
    "plt.subplot(122)\n",
    "plt.bar(range(9),vpt.specific_impact,color = \"tab:red\")\n",
    "plt.xticks(range(9));\n",
    "plt.title(\"Specific impact consistency\")"
   ]
  },
  {
   "cell_type": "markdown",
   "metadata": {},
   "source": [
    "Overall channel/sensor and impact consistency"
   ]
  },
  {
   "cell_type": "code",
   "execution_count": 17,
   "metadata": {},
   "outputs": [
    {
     "data": {
      "text/plain": [
       "Text(0.5, 0, 'Frequency [Hz]')"
      ]
     },
     "execution_count": 17,
     "metadata": {},
     "output_type": "execute_result"
    },
    {
     "data": {
      "image/png": "[encoded data removed]",
      "text/plain": [
       "<Figure size 720x172.8 with 2 Axes>"
      ]
     },
     "metadata": {
      "needs_background": "light"
     },
     "output_type": "display_data"
    }
   ],
   "source": [
    "plt.figure(figsize = (10,2.4))\n",
    "plt.subplot(121)\n",
    "plt.plot(vpt.freq,vpt.overall_sensor,color = \"tab:blue\")\n",
    "plt.ylim(0,1.1)\n",
    "plt.title(\"Overall sensor consistency\")\n",
    "plt.xlabel(\"Frequency [Hz]\")\n",
    "\n",
    "plt.subplot(122)\n",
    "plt.plot(vpt.freq,vpt.overall_impact,color = \"tab:red\")\n",
    "plt.ylim(0,1.1)\n",
    "plt.title(\"Overall impact consistency\")\n",
    "plt.xlabel(\"Frequency [Hz]\")"
   ]
  },
  {
   "cell_type": "markdown",
   "metadata": {},
   "source": [
    "Reciprocity check on the FRF matrix"
   ]
  },
  {
   "cell_type": "code",
   "execution_count": 18,
   "metadata": {},
   "outputs": [
    {
     "data": {
      "text/plain": [
       "Text(0, 0.5, 'Output DoFs')"
      ]
     },
     "execution_count": 18,
     "metadata": {},
     "output_type": "execute_result"
    },
    {
     "data": {
      "image/png": "[encoded data removed]",
      "text/plain": [
       "<Figure size 432x288 with 2 Axes>"
      ]
     },
     "metadata": {
      "needs_background": "light"
     },
     "output_type": "display_data"
    }
   ],
   "source": [
    "coh_crit = pyFBS.utility.coh_on_FRF(vpt.vptData[:,:6,:6])\n",
    "\n",
    "plt.imshow(coh_crit)\n",
    "plt.colorbar(shrink = 0.8)\n",
    "\n",
    "\n",
    "plt.xlabel(\"Input DoFs\")\n",
    "plt.ylabel(\"Output DoFs\")"
   ]
  }
 ],
 "metadata": {
  "kernelspec": {
   "display_name": "Python 3",
   "language": "python",
   "name": "python3"
  },
  "language_info": {
   "codemirror_mode": {
    "name": "ipython",
    "version": 3
   },
   "file_extension": ".py",
   "mimetype": "text/x-python",
   "name": "python",
   "nbconvert_exporter": "python",
   "pygments_lexer": "ipython3",
   "version": "3.8.3"
  }
 },
 "nbformat": 4,
 "nbformat_minor": 4
}
