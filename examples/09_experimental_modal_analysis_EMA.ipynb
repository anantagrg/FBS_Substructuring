{
 "cells": [
  {
   "cell_type": "markdown",
   "metadata": {},
   "source": [
    "# 09 Experimental modal analysis (EMA)\n",
    "The `pyFBS` can be also used with other python packages for structural dynamics. One of those packages is `pyEMA` which performes a Experimental Modal Analysis (EMA). In this example an integration of the two packages is shown on a frame the automotive testbench example. Real experimental data is used in this example. "
   ]
  },
  {
   "cell_type": "code",
   "execution_count": 2,
   "metadata": {},
   "outputs": [],
   "source": [
    "import pyFBS\n",
    "from pyEMA import pyEMA\n",
    "\n",
    "import numpy as np\n",
    "import matplotlib.pyplot as plt\n",
    "%matplotlib inline\n",
    "import pyvista as pv\n",
    "import pandas as pd"
   ]
  },
  {
   "cell_type": "markdown",
   "metadata": {},
   "source": [
    "#### Example Datasests\n",
    "Load the required predefined datasets:"
   ]
  },
  {
   "cell_type": "code",
   "execution_count": 3,
   "metadata": {},
   "outputs": [
    {
     "name": "stderr",
     "output_type": "stream",
     "text": [
      "100%|██████████████████████████████████████████████████████████████████████████████████| 6/6 [00:00<00:00, 5824.07it/s]\n",
      "100%|██████████████████████████████████████████████████████████████████████████████████| 7/7 [00:00<00:00, 6982.19it/s]\n",
      "100%|████████████████████████████████████████████████████████████████████████████████| 15/15 [00:00<00:00, 9975.35it/s]"
     ]
    },
    {
     "name": "stdout",
     "output_type": "stream",
     "text": [
      "Downloading FEM files\n",
      "Downloading STL files\n",
      "Downloading Measurements files\n"
     ]
    },
    {
     "name": "stderr",
     "output_type": "stream",
     "text": [
      "\n"
     ]
    }
   ],
   "source": [
    "pyFBS.download_automotive_testbench()"
   ]
  },
  {
   "cell_type": "code",
   "execution_count": 4,
   "metadata": {},
   "outputs": [],
   "source": [
    "# STL files\n",
    "stl_rec = r\"./automotive_testbench/STL/receiver.stl\"\n",
    "stl_tm = r\"./automotive_testbench/STL/transmission_mount.stl\"\n",
    "stl_rm = r\"./automotive_testbench/STL/roll_mount.stl\"\n",
    "stl_em = r\"./automotive_testbench/STL/engine_mount.stl\"\n",
    "stl_ts = r\"./automotive_testbench/STL/ts.stl\"\n",
    "stl_shaker = r\"./automotive_testbench/STL/shaker_only.stl\"\n",
    "\n",
    "# Sensors, Channels and impacts data\n",
    "pos_xlsx = r\"./automotive_testbench/Measurements/modal.xlsx\"\n",
    "df_acc = pd.read_excel(pos_xlsx, sheet_name='Sensors')\n",
    "df_chn = pd.read_excel(pos_xlsx, sheet_name='Channels')\n",
    "df_imp = pd.read_excel(pos_xlsx, sheet_name='Impacts')\n",
    "\n",
    "# Experimental datasets\n",
    "_file = r\"./automotive_testbench/Measurements/frame_rubbermounts.p\"\n",
    "freq, Y_m1 = np.load(_file,allow_pickle = True)\n",
    "\n",
    "_file = r\"./automotive_testbench/Measurements/frame_rubbermounts_sourceplate.p\"\n",
    "freq, Y_m2 = np.load(_file,allow_pickle = True)"
   ]
  },
  {
   "cell_type": "markdown",
   "metadata": {},
   "source": [
    "#### 3D View\n",
    "Open a 3Dviewer in the background."
   ]
  },
  {
   "cell_type": "code",
   "execution_count": 5,
   "metadata": {},
   "outputs": [],
   "source": [
    "view3D_1 = pyFBS.view3D()"
   ]
  },
  {
   "cell_type": "markdown",
   "metadata": {},
   "source": [
    "Add the STL file of the assembly to the 3D view:"
   ]
  },
  {
   "cell_type": "code",
   "execution_count": 6,
   "metadata": {},
   "outputs": [],
   "source": [
    "view3D_1.add_stl(stl_rec,name = \"receiver_0\",color = \"#e0e0e0\",opacity = .1)\n",
    "view3D_1.add_stl(stl_tm,name = \"transmission_mount_0\",color = \"#83afd2\",opacity = .1)\n",
    "view3D_1.add_stl(stl_rm,name = \"roll_mount_0\",color = \"#83afd2\",opacity = .1)\n",
    "view3D_1.add_stl(stl_em,name = \"engine_mount_0\",color = \"#83afd2\",opacity = .1)\n",
    "view3D_1.add_stl(stl_ts,name = \"ts_0\",color = \"#FB6D4C\",opacity = .1);"
   ]
  },
  {
   "cell_type": "markdown",
   "metadata": {},
   "source": [
    "## Experimental Modal analysis - Assembly\n",
    "Experimental modal analysis in Python can be performed with [pyEMA](https://github.com/ladisk/pyEMA) package. Currently single reference modal identification with LSCD/LSFD is supported. For more details check the [pyEMA documentation](https://pyema.readthedocs.io/en/latest/).\n",
    "#### pyEMA\n",
    "Perform the LSCF/LSFD experimental identification of modal parameters:"
   ]
  },
  {
   "cell_type": "code",
   "execution_count": 7,
   "metadata": {},
   "outputs": [
    {
     "name": "stderr",
     "output_type": "stream",
     "text": [
      "100%|██████████████████████████████████████████████████████████████| 60/60 [00:00<00:00, 154.82it/s]\n",
      "100%|██████████████████████████████████████████████████████████████| 60/60 [00:00<00:00, 131.66it/s]\n"
     ]
    },
    {
     "data": {
      "text/html": [
       "<div>\n",
       "<style scoped>\n",
       "    .dataframe tbody tr th:only-of-type {\n",
       "        vertical-align: middle;\n",
       "    }\n",
       "\n",
       "    .dataframe tbody tr th {\n",
       "        vertical-align: top;\n",
       "    }\n",
       "\n",
       "    .dataframe thead th {\n",
       "        text-align: right;\n",
       "    }\n",
       "</style>\n",
       "<table border=\"1\" class=\"dataframe\">\n",
       "  <thead>\n",
       "    <tr style=\"text-align: right;\">\n",
       "      <th></th>\n",
       "      <th>Nat. freq [Hz]</th>\n",
       "      <th>Damping [/]</th>\n",
       "    </tr>\n",
       "  </thead>\n",
       "  <tbody>\n",
       "    <tr>\n",
       "      <th>1</th>\n",
       "      <td>64.159213</td>\n",
       "      <td>0.015174</td>\n",
       "    </tr>\n",
       "  </tbody>\n",
       "</table>\n",
       "</div>"
      ],
      "text/plain": [
       "   Nat. freq [Hz]  Damping [/]\n",
       "1       64.159213     0.015174"
      ]
     },
     "execution_count": 7,
     "metadata": {},
     "output_type": "execute_result"
    }
   ],
   "source": [
    "Y =  Y_m1[:,:,0].T\n",
    "\n",
    "modal_1 = pyEMA.Model(Y,freq,pol_order_high=60,lower = 0,upper = 1000)\n",
    "modal_1.get_poles()\n",
    "#modal_1.select_poles()\n",
    "\n",
    "approx_nat_freq = [69]\n",
    "modal_1.select_closest_poles(approx_nat_freq)\n",
    "\n",
    "H_acc, modes_1 = modal_1.get_constants(whose_poles=modal_1,least_squares_type=\"old\")\n",
    "pd.DataFrame({\"Nat. freq [Hz]\": modal_1.nat_freq,\"Damping [/]\": modal_1.nat_xi},index = np.arange(len(modal_1.nat_freq))+1)"
   ]
  },
  {
   "cell_type": "markdown",
   "metadata": {},
   "source": [
    "For animation a mesh can be manually created. In this example a line connections between points are made. For more details on `pv.PolyData` check an example from [PyVista](https://docs.pyvista.org/examples/00-load/create-poly.html?highlight=polydata)."
   ]
  },
  {
   "cell_type": "code",
   "execution_count": 8,
   "metadata": {},
   "outputs": [],
   "source": [
    "pos_array = df_acc[[\"Position_1\",\"Position_2\",\"Position_3\"]].to_numpy()*1000\n",
    "faces = np.hstack([[2,1,2],[2,3,2],[2,3,13],[2,0,13],[2,0,1],[2,0,1],[2,5,1],[2,5,12],[2,4,12],[2,9,4],[2,9,8],[2,8,7],[2,0,4],[2,5,11],[2,10,11],[2,10,6],[2,2,6],[2,3,7]]).astype(np.int8)\n",
    "point_cloud_1 = pv.PolyData(pos_array,faces)\n",
    "pts_1 = point_cloud_1.points.copy()\n",
    "\n",
    "view3D_1.plot.add_mesh(point_cloud_1,name = \"mesh\",render_lines_as_tubes = True, line_width=10, color = \"k\",clim = [-1,1], cmap=\"coolwarm\",scalars = np.zeros(pts_1.shape[0]),style = \"wireframe\");"
   ]
  },
  {
   "cell_type": "markdown",
   "metadata": {},
   "source": [
    "#### Mode shape animation\n",
    "The identified mode shape can be animated directly in the 3D view:"
   ]
  },
  {
   "cell_type": "code",
   "execution_count": 9,
   "metadata": {},
   "outputs": [],
   "source": [
    "mode_select_1 = 0\n",
    "\n",
    "emp_1 = pyFBS.orient_in_global(modes_1[:,mode_select_1],df_chn,df_acc)\n",
    "mode_dict = pyFBS.dict_animation(emp_1,\"modeshape\",pts = pts_1,mesh = point_cloud_1,r_scale = 50)\n",
    "\n",
    "mode_dict[\"freq\"] = modal_1.nat_freq[mode_select_1]\n",
    "mode_dict[\"damp\"] = modal_1.nat_xi[mode_select_1]\n",
    "mode_dict[\"mcf\"] = pyFBS.MCF(modes_1[:,mode_select_1])\n",
    "\n",
    "view3D_1.add_modeshape(mode_dict,run_animation = True,add_note = True)"
   ]
  },
  {
   "cell_type": "markdown",
   "metadata": {},
   "source": [
    "## EMA - Assembly without the source\n",
    "\n",
    "#### 3D View\n",
    "You can open multiple displays at once and performs simoultenous analyses. Open a second 3D display:"
   ]
  },
  {
   "cell_type": "code",
   "execution_count": 10,
   "metadata": {},
   "outputs": [],
   "source": [
    "view3D_2 = pyFBS.view3D()"
   ]
  },
  {
   "cell_type": "markdown",
   "metadata": {},
   "source": [
    "Add the STL files of the assembly without the source structure to the 3D view:"
   ]
  },
  {
   "cell_type": "code",
   "execution_count": 11,
   "metadata": {},
   "outputs": [],
   "source": [
    "view3D_2.add_stl(stl_rec,name = \"receiver_0\",color = \"#e0e0e0\",opacity = .1)\n",
    "view3D_2.add_stl(stl_tm,name = \"transmission_mount_0\",color = \"#83afd2\",opacity = .1)\n",
    "view3D_2.add_stl(stl_rm,name = \"roll_mount_0\",color = \"#83afd2\",opacity = .1)\n",
    "view3D_2.add_stl(stl_em,name = \"engine_mount_0\",color = \"#83afd2\",opacity = .1);"
   ]
  },
  {
   "cell_type": "markdown",
   "metadata": {},
   "source": [
    "#### pyEMA\n",
    "Perform the LSCF/LSFD experimental identification of modal parameters:"
   ]
  },
  {
   "cell_type": "code",
   "execution_count": 12,
   "metadata": {},
   "outputs": [
    {
     "name": "stderr",
     "output_type": "stream",
     "text": [
      "100%|██████████████████████████████████████████████████████████████| 60/60 [00:00<00:00, 170.25it/s]\n",
      "100%|██████████████████████████████████████████████████████████████| 60/60 [00:00<00:00, 128.83it/s]\n"
     ]
    },
    {
     "data": {
      "text/html": [
       "<div>\n",
       "<style scoped>\n",
       "    .dataframe tbody tr th:only-of-type {\n",
       "        vertical-align: middle;\n",
       "    }\n",
       "\n",
       "    .dataframe tbody tr th {\n",
       "        vertical-align: top;\n",
       "    }\n",
       "\n",
       "    .dataframe thead th {\n",
       "        text-align: right;\n",
       "    }\n",
       "</style>\n",
       "<table border=\"1\" class=\"dataframe\">\n",
       "  <thead>\n",
       "    <tr style=\"text-align: right;\">\n",
       "      <th></th>\n",
       "      <th>Nat. freq [Hz]</th>\n",
       "      <th>Damping [/]</th>\n",
       "    </tr>\n",
       "  </thead>\n",
       "  <tbody>\n",
       "    <tr>\n",
       "      <th>1</th>\n",
       "      <td>69.934029</td>\n",
       "      <td>0.013597</td>\n",
       "    </tr>\n",
       "  </tbody>\n",
       "</table>\n",
       "</div>"
      ],
      "text/plain": [
       "   Nat. freq [Hz]  Damping [/]\n",
       "1       69.934029     0.013597"
      ]
     },
     "execution_count": 12,
     "metadata": {},
     "output_type": "execute_result"
    }
   ],
   "source": [
    "# select the reference DoF\n",
    "Y =  Y_m2[:,:,0].T\n",
    "\n",
    "modal_2 = pyEMA.Model(Y,freq,pol_order_high=60,lower = 0,upper = 1000)\n",
    "modal_2.get_poles()\n",
    "#modal_2.select_poles()\n",
    "\n",
    "approx_nat_freq = [64]\n",
    "modal_2.select_closest_poles(approx_nat_freq)\n",
    "\n",
    "H_acc, modes_2 = modal_2.get_constants(whose_poles=modal_2,least_squares_type=\"old\")\n",
    "pd.DataFrame({\"Nat. freq [Hz]\": modal_2.nat_freq,\"Damping [/]\": modal_2.nat_xi},index = np.arange(len(modal_2.nat_freq))+1)"
   ]
  },
  {
   "cell_type": "markdown",
   "metadata": {},
   "source": [
    "Create a mesh and add it to the 3D view:"
   ]
  },
  {
   "cell_type": "code",
   "execution_count": 13,
   "metadata": {},
   "outputs": [
    {
     "data": {
      "text/plain": [
       "(vtkmodules.vtkRenderingOpenGL2.vtkOpenGLActor)0000019B94A24B88"
      ]
     },
     "execution_count": 13,
     "metadata": {},
     "output_type": "execute_result"
    }
   ],
   "source": [
    "pos_array = df_acc[[\"Position_1\",\"Position_2\",\"Position_3\"]].to_numpy()*1000\n",
    "\n",
    "point_cloud_2 = pv.PolyData(pos_array,faces)\n",
    "pts_2 = point_cloud_2.points.copy()\n",
    "view3D_2.plot.add_mesh(point_cloud_2,name = \"mesh\",render_lines_as_tubes = True, line_width=10, color = \"k\",clim = [-1,1], cmap=\"coolwarm\",scalars = np.zeros(pts_2.shape[0]),style = \"wireframe\")"
   ]
  },
  {
   "cell_type": "markdown",
   "metadata": {},
   "source": [
    "#### Mode shape animation\n",
    "The second set of identified mode shapes can be animated directly in the 3D view. As two instances of the `pyFBS.view3D` can be created in the same analysis a side-by-side comparison is possible:"
   ]
  },
  {
   "cell_type": "code",
   "execution_count": 14,
   "metadata": {},
   "outputs": [],
   "source": [
    "mode_select_2 = 0\n",
    "\n",
    "emp_2 = pyFBS.orient_in_global(modes_2[:,mode_select_2],df_chn,df_acc)\n",
    "mode_dict = pyFBS.dict_animation(emp_2,\"modeshape\",pts = pts_2,mesh = point_cloud_2,r_scale = 50)\n",
    "\n",
    "mode_dict[\"freq\"] = modal_2.nat_freq[mode_select_2]\n",
    "mode_dict[\"damp\"] = modal_2.nat_xi[mode_select_2]\n",
    "mode_dict[\"mcf\"] = pyFBS.MCF(modes_2[:,mode_select_2])\n",
    "\n",
    "view3D_2.add_modeshape(mode_dict,run_animation = True,add_note = True)"
   ]
  },
  {
   "cell_type": "code",
   "execution_count": null,
   "metadata": {},
   "outputs": [],
   "source": []
  }
 ],
 "metadata": {
  "kernelspec": {
   "display_name": "Python 3",
   "language": "python",
   "name": "python3"
  },
  "language_info": {
   "codemirror_mode": {
    "name": "ipython",
    "version": 3
   },
   "file_extension": ".py",
   "mimetype": "text/x-python",
   "name": "python",
   "nbconvert_exporter": "python",
   "pygments_lexer": "ipython3",
   "version": "3.8.3"
  }
 },
 "nbformat": 4,
 "nbformat_minor": 4
}
