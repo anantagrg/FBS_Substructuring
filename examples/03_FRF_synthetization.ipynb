{
 "cells": [
  {
   "cell_type": "markdown",
   "metadata": {},
   "source": [
    "# 03 FRF synthetization"
   ]
  },
  {
   "cell_type": "markdown",
   "metadata": {},
   "source": [
    "Modal superposition allows easy and fast generation of FRFs from the finite element model. By solving the eigenvalue problem, eigenfrequencies and eigenvectors of the system are obtained. "
   ]
  },
  {
   "cell_type": "code",
   "execution_count": 1,
   "metadata": {},
   "outputs": [],
   "source": [
    "import pyFBS\n",
    "\n",
    "import numpy as np\n",
    "import matplotlib.pyplot as plt\n",
    "%matplotlib inline\n",
    "import pandas as pd"
   ]
  },
  {
   "cell_type": "markdown",
   "metadata": {},
   "source": [
    "## Data import"
   ]
  },
  {
   "cell_type": "markdown",
   "metadata": {},
   "source": [
    "Importing of example data: \n",
    " - 3D model in stl format\n",
    " - locations and directions of responses and impacts in xlsx format\n",
    " - Ansys .full file\n",
    " - Ansys .res file\n",
    " - experimental data from .pickle file"
   ]
  },
  {
   "cell_type": "code",
   "execution_count": 2,
   "metadata": {},
   "outputs": [
    {
     "name": "stderr",
     "output_type": "stream",
     "text": [
      "100%|██████████████████████████████████████████████████████████████████████████████████| 6/6 [00:00<00:00, 1499.22it/s]\n",
      "100%|███████████████████████████████████████████████████████████████████████████████████| 3/3 [00:00<00:00, 750.95it/s]\n",
      "100%|██████████████████████████████████████████████████████████████████████████████████| 7/7 [00:00<00:00, 1752.95it/s]"
     ]
    },
    {
     "name": "stdout",
     "output_type": "stream",
     "text": [
      "Downloading FEM files\n",
      "Downloading STL files\n",
      "Downloading Measurements files\n"
     ]
    },
    {
     "name": "stderr",
     "output_type": "stream",
     "text": [
      "\n"
     ]
    }
   ],
   "source": [
    "pyFBS.download_lab_testbench()"
   ]
  },
  {
   "cell_type": "code",
   "execution_count": 3,
   "metadata": {},
   "outputs": [],
   "source": [
    "stl = r\"./lab_testbench/STL/B.stl\"\n",
    "xlsx = r\"./lab_testbench/Measurements/AM_measurements.xlsx\"\n",
    "\n",
    "full_file = r\"./lab_testbench/FEM/B.full\"\n",
    "rst_file = r\"./lab_testbench/FEM/B.rst\"\n",
    "\n",
    "exp_file = r\"./lab_testbench/Measurements/Y_B.p\""
   ]
  },
  {
   "cell_type": "markdown",
   "metadata": {},
   "source": [
    "### Experiemntal data import"
   ]
  },
  {
   "cell_type": "code",
   "execution_count": 4,
   "metadata": {},
   "outputs": [],
   "source": [
    "freq, Y_B_exp = np.load(exp_file,allow_pickle = True)"
   ]
  },
  {
   "cell_type": "markdown",
   "metadata": {},
   "source": [
    "## Initialisation"
   ]
  },
  {
   "cell_type": "markdown",
   "metadata": {},
   "source": [
    "Initialisation of MK model. Location of ``.ress`` and ``.full`` file must be defined.\n",
    "\n",
    "A number of modes that will be taken into account when solving the eigenvalue problem are set in the ``no_modes`` parameter, for faster processing of re-imports, a pickle file can be read (``allow_pickle`` parameter), the repetition of eigenvalue problem solving is set in the ``recalculate`` parameter."
   ]
  },
  {
   "cell_type": "code",
   "execution_count": 5,
   "metadata": {},
   "outputs": [],
   "source": [
    "MK = pyFBS.MK_model(rst_file, full_file, no_modes = 100, allow_pickle = False, recalculate = True)"
   ]
  },
  {
   "cell_type": "markdown",
   "metadata": {},
   "source": [
    "``MK`` parameter is ``pyFBS.MCK.MK_model`` class with following attributes:"
   ]
  },
  {
   "cell_type": "code",
   "execution_count": 6,
   "metadata": {},
   "outputs": [
    {
     "data": {
      "text/plain": [
       "dict_keys(['nodes', 'mesh', 'pts', 'no_modes', '_all', 'dof_ref', 'K', 'M', '_K', 'rotation_included', 'eig_freq', 'eig_val', 'eig_vec'])"
      ]
     },
     "execution_count": 6,
     "metadata": {},
     "output_type": "execute_result"
    }
   ],
   "source": [
    "MK.__dict__.keys()"
   ]
  },
  {
   "cell_type": "code",
   "execution_count": 7,
   "metadata": {},
   "outputs": [],
   "source": [
    "MK.nodes             # all nodes of finite element model\n",
    "MK.mesh              # class: pyvista.core.pointset.UnstructuredGrid, where moes of finite element model is defined\n",
    "MK.pts               #  all nodes to be rendered converted to mm\n",
    "MK.no_modes          # number of modes taken in to account when solving eigenvalue probelm\n",
    "MK.dof_ref           # DoFs at specific node\n",
    "MK.K                 # stiffness matrix in sparse form\n",
    "MK.M                 # mass matrix in sparse form\n",
    "MK._K                # temporary stiffness matrix in sparse form for pickle import check\n",
    "MK.rotation_included # finite element model includes rotation DoFs\n",
    "MK.eig_freq          # eigenfrequencies of finite element model in [rad/s]\n",
    "MK.eig_val           # eigenvalues of finite element model in [rad^2/s^2]\n",
    "MK.eig_vec;          # eigenvectors of finite element model"
   ]
  },
  {
   "cell_type": "markdown",
   "metadata": {},
   "source": [
    "## 3D view"
   ]
  },
  {
   "cell_type": "code",
   "execution_count": 8,
   "metadata": {},
   "outputs": [],
   "source": [
    "view3D = pyFBS.view3D(show_origin= True)"
   ]
  },
  {
   "cell_type": "code",
   "execution_count": 9,
   "metadata": {},
   "outputs": [],
   "source": [
    "view3D.add_stl(stl,name = \"engine_mount\",color = \"#8FB1CC\",opacity = .1);"
   ]
  },
  {
   "cell_type": "code",
   "execution_count": 10,
   "metadata": {},
   "outputs": [],
   "source": [
    "view3D.plot.add_mesh(MK.mesh, scalars = np.ones(MK.mesh.points.shape[0]) ,name = \"mesh\",cmap = \"coolwarm\", show_edges = True);"
   ]
  },
  {
   "cell_type": "markdown",
   "metadata": {},
   "source": [
    "### Animate mode shape"
   ]
  },
  {
   "cell_type": "code",
   "execution_count": 11,
   "metadata": {},
   "outputs": [],
   "source": [
    "select_mode = 7\n",
    "_modeshape = MK.get_modeshape(select_mode)\n",
    "\n",
    "mode_dict = pyFBS.dict_animation(_modeshape,\"modeshape\",pts = MK.pts, mesh = MK.mesh)\n",
    "view3D.add_modeshape(mode_dict,run_animation = True)"
   ]
  },
  {
   "cell_type": "code",
   "execution_count": 12,
   "metadata": {},
   "outputs": [],
   "source": [
    "view3D.clear_modeshape()"
   ]
  },
  {
   "cell_type": "markdown",
   "metadata": {},
   "source": [
    "### Show accelereometers"
   ]
  },
  {
   "cell_type": "code",
   "execution_count": 13,
   "metadata": {},
   "outputs": [],
   "source": [
    "df_acc = pd.read_excel(xlsx, sheet_name='Sensors_B')\n",
    "view3D.show_acc(df_acc,overwrite = True)\n",
    "#view3D.label_imp(df_imp)\n",
    "#df_imp"
   ]
  },
  {
   "cell_type": "code",
   "execution_count": 14,
   "metadata": {},
   "outputs": [],
   "source": [
    "df_chn = pd.read_excel(xlsx, sheet_name='Channels_B')\n",
    "view3D.show_chn(df_chn)\n",
    "#df_chn"
   ]
  },
  {
   "cell_type": "markdown",
   "metadata": {},
   "source": [
    "### Show impacts"
   ]
  },
  {
   "cell_type": "code",
   "execution_count": 15,
   "metadata": {},
   "outputs": [],
   "source": [
    "df_imp = pd.read_excel(xlsx, sheet_name='Impacts_B')\n",
    "view3D.show_imp(df_imp,overwrite = True)\n",
    "#view3D.label_imp(df_imp)\n",
    "#df_imp"
   ]
  },
  {
   "cell_type": "markdown",
   "metadata": {},
   "source": [
    "## Update experimental locations to closest numerical location"
   ]
  },
  {
   "cell_type": "markdown",
   "metadata": {},
   "source": [
    "The locations and directions of responses and excitations often do not match exactly with the numerical model, so we need to find the nodes closest to these points. Only the locations are updated, the directions remain the same."
   ]
  },
  {
   "cell_type": "code",
   "execution_count": 16,
   "metadata": {},
   "outputs": [],
   "source": [
    "df_chn_up = MK.update_locations_df(df_chn)\n",
    "df_imp_up = MK.update_locations_df(df_imp)"
   ]
  },
  {
   "cell_type": "code",
   "execution_count": 17,
   "metadata": {},
   "outputs": [],
   "source": [
    "view3D.show_chn(df_chn_up, color = \"k\",overwrite = False)\n",
    "view3D.show_imp(df_imp_up, color = \"k\",overwrite = False)"
   ]
  },
  {
   "cell_type": "markdown",
   "metadata": {},
   "source": [
    "# FRF synthetization"
   ]
  },
  {
   "cell_type": "markdown",
   "metadata": {},
   "source": [
    "For the synthetization of FRFs, it is necessary to define the locations and directions that we want to be included in the final response model. This is defined in the form of pandas.DataFrame, which must have the following labels: \n",
    " - `` Position_1``, `` Position_2``, `` Position_3`` - for locations\n",
    " - `` Direction_1``, `` Direction_2``, `` Direction_3`` - for directions\n",
    " \n",
    "The frequency range and its resolution are set via the parameters ``f_start``, ``f_end`` and ``f_resolution``, the number of modes used for reconstruction can be defined in the parameter ``limit_modes`` (if ``limit_modes = None`` then the same number of models will be used for reconstruction as defined during initialization in the ``no_modes`` parameter) and the constant damping can be set in the ``modal_damping`` parameter. The result of the  FRF synthetization can be in the form of ``accelerance``, ``mobility`` or ``receptance``, which is defined in the ``frf_type`` parameter.\n",
    " \n",
    "If defined locations in given pandas.DataFrames do not coincide with locations in the numerical model, will FRFs be generated at the nearest nodes of numerical model. Nodes, where FRF were actually generated, are defined in parameters ``df_chn_up`` and ``df_imp_up``."
   ]
  },
  {
   "cell_type": "code",
   "execution_count": 18,
   "metadata": {},
   "outputs": [],
   "source": [
    "MK.FRF_synth(df_chn,df_imp,f_start = 0,f_end =2000 ,f_resolution = 1, limit_modes = 50, modal_damping = 0.003,frf_type = \"accelerance\")"
   ]
  },
  {
   "cell_type": "markdown",
   "metadata": {},
   "source": [
    "## Add noise to FRFs"
   ]
  },
  {
   "cell_type": "markdown",
   "metadata": {},
   "source": [
    "Random noise can also be added to the synthesized FRFs:"
   ]
  },
  {
   "cell_type": "code",
   "execution_count": 19,
   "metadata": {},
   "outputs": [],
   "source": [
    "MK.add_noise(n1 = 2e-2, n2 = 2e-1, n3 = 2e-1 ,n4 = 5e-2)"
   ]
  },
  {
   "cell_type": "markdown",
   "metadata": {},
   "source": [
    "# FRF visualisation"
   ]
  },
  {
   "cell_type": "code",
   "execution_count": 20,
   "metadata": {},
   "outputs": [
    {
     "data": {
      "text/html": [
       "<div>\n",
       "<style scoped>\n",
       "    .dataframe tbody tr th:only-of-type {\n",
       "        vertical-align: middle;\n",
       "    }\n",
       "\n",
       "    .dataframe tbody tr th {\n",
       "        vertical-align: top;\n",
       "    }\n",
       "\n",
       "    .dataframe thead th {\n",
       "        text-align: right;\n",
       "    }\n",
       "</style>\n",
       "<table border=\"1\" class=\"dataframe\">\n",
       "  <thead>\n",
       "    <tr style=\"text-align: right;\">\n",
       "      <th></th>\n",
       "      <th>Name</th>\n",
       "      <th>Quantity</th>\n",
       "      <th>Position_1</th>\n",
       "      <th>Position_2</th>\n",
       "      <th>Position_3</th>\n",
       "      <th>Direction_1</th>\n",
       "      <th>Direction_2</th>\n",
       "      <th>Direction_3</th>\n",
       "    </tr>\n",
       "  </thead>\n",
       "  <tbody>\n",
       "    <tr>\n",
       "      <th>3</th>\n",
       "      <td>Sensor 4</td>\n",
       "      <td>Acceleration</td>\n",
       "      <td>33.938789</td>\n",
       "      <td>369.124840</td>\n",
       "      <td>-7.518755</td>\n",
       "      <td>0.0</td>\n",
       "      <td>0.0</td>\n",
       "      <td>1.0</td>\n",
       "    </tr>\n",
       "    <tr>\n",
       "      <th>0</th>\n",
       "      <td>Impact 7</td>\n",
       "      <td>Force</td>\n",
       "      <td>46.035934</td>\n",
       "      <td>323.204458</td>\n",
       "      <td>27.000001</td>\n",
       "      <td>0.0</td>\n",
       "      <td>0.0</td>\n",
       "      <td>-1.0</td>\n",
       "    </tr>\n",
       "  </tbody>\n",
       "</table>\n",
       "</div>"
      ],
      "text/plain": [
       "       Name      Quantity  Position_1  Position_2  Position_3  Direction_1  \\\n",
       "3  Sensor 4  Acceleration   33.938789  369.124840   -7.518755          0.0   \n",
       "0  Impact 7         Force   46.035934  323.204458   27.000001          0.0   \n",
       "\n",
       "   Direction_2  Direction_3  \n",
       "3          0.0          1.0  \n",
       "0          0.0         -1.0  "
      ]
     },
     "metadata": {},
     "output_type": "display_data"
    }
   ],
   "source": [
    "plt.figure(figsize = (8,6))\n",
    "\n",
    "s1 = 3\n",
    "s2 = 0\n",
    "\n",
    "param = [\"Name\", \"Quantity\",\"Position_1\", \"Position_2\", \"Position_3\", \"Direction_1\", \"Direction_2\", \"Direction_3\"]\n",
    "\n",
    "df_disp = df_chn.iloc[[s1]][param].copy()\n",
    "display(df_disp.append(df_imp.iloc[[s2]][param]))\n",
    "\n",
    "plt.subplot(211)\n",
    "plt.semilogy(MK.freq,np.abs(MK.FRF_noise[:,s1,s2]), alpha=0.4, label = \"Num. FRF + noise\")\n",
    "plt.semilogy(MK.freq,np.abs(MK.FRF[:,s1,s2]), label = \"Num. FRF\")\n",
    "plt.semilogy(freq,np.abs(Y_B_exp[s1,s2]), label = \"Exp. FRF\")\n",
    "plt.legend()\n",
    "\n",
    "plt.subplot(413)\n",
    "plt.plot(MK.freq,np.angle(MK.FRF_noise[:,s1,s2]), alpha=0.4)\n",
    "plt.plot(MK.freq,np.angle(MK.FRF[:,s1,s2]))\n",
    "plt.plot(freq,np.angle(Y_B_exp[s1,s2]));"
   ]
  }
 ],
 "metadata": {
  "kernelspec": {
   "display_name": "Python 3",
   "language": "python",
   "name": "python3"
  },
  "language_info": {
   "codemirror_mode": {
    "name": "ipython",
    "version": 3
   },
   "file_extension": ".py",
   "mimetype": "text/x-python",
   "name": "python",
   "nbconvert_exporter": "python",
   "pygments_lexer": "ipython3",
   "version": "3.8.3"
  }
 },
 "nbformat": 4,
 "nbformat_minor": 4
}
