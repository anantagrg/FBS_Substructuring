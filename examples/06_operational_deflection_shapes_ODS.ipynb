{
 "cells": [
  {
   "cell_type": "markdown",
   "metadata": {},
   "source": [
    "# 06 Operational Deflection Shapes (ODS)\n",
    "The 3D display of the `pyFBS` can be used to animate objects. Animation can be performed on meshes directly on predefined objects (such as accelerometers). In this example an operational deflection shape of the a structure is animated. "
   ]
  },
  {
   "cell_type": "code",
   "execution_count": 2,
   "metadata": {},
   "outputs": [],
   "source": [
    "import pyFBS\n",
    "\n",
    "import pandas as pd\n",
    "import pickle\n",
    "import numpy as np\n",
    "import matplotlib.pyplot as plt\n",
    "%matplotlib inline"
   ]
  },
  {
   "cell_type": "markdown",
   "metadata": {},
   "source": [
    "#### Example Datasets\n",
    "Load a predefined datasets from an example and add a structure from STL file to the 3D view."
   ]
  },
  {
   "cell_type": "code",
   "execution_count": 3,
   "metadata": {},
   "outputs": [
    {
     "name": "stderr",
     "output_type": "stream",
     "text": [
      "100%|██████████████████████████████████████████████████████████████████████████████████| 6/6 [00:00<00:00, 3990.77it/s]\n",
      "100%|██████████████████████████████████████████████████████████████████████████████████| 7/7 [00:00<00:00, 4657.38it/s]\n",
      "100%|████████████████████████████████████████████████████████████████████████████████| 15/15 [00:00<00:00, 7480.03it/s]"
     ]
    },
    {
     "name": "stdout",
     "output_type": "stream",
     "text": [
      "Downloading FEM files\n",
      "Downloading STL files\n",
      "Downloading Measurements files\n"
     ]
    },
    {
     "name": "stderr",
     "output_type": "stream",
     "text": [
      "\n"
     ]
    }
   ],
   "source": [
    "pyFBS.download_automotive_testbench()"
   ]
  },
  {
   "cell_type": "code",
   "execution_count": 4,
   "metadata": {},
   "outputs": [],
   "source": [
    "pos_xlsx = r\"./automotive_testbench/Measurements/ODS.xlsx\"\n",
    "\n",
    "stl_rec = r\"./automotive_testbench/STL/receiver.stl\"\n",
    "stl_tm = r\"./automotive_testbench/STL/transmission_mount.stl\"\n",
    "stl_rm = r\"./automotive_testbench/STL/roll_mount.stl\"\n",
    "stl_em = r\"./automotive_testbench/STL/engine_mount.stl\"\n",
    "stl_ts = r\"./automotive_testbench/STL/ts.stl\"\n",
    "stl_shaker = r\"./automotive_testbench/STL/shaker_only.stl\""
   ]
  },
  {
   "cell_type": "markdown",
   "metadata": {},
   "source": [
    "#### 3D view\n",
    "Open 3D viewer in the background."
   ]
  },
  {
   "cell_type": "code",
   "execution_count": 5,
   "metadata": {},
   "outputs": [],
   "source": [
    "view3D = pyFBS.view3D()"
   ]
  },
  {
   "cell_type": "markdown",
   "metadata": {},
   "source": [
    "Add a structure from STL file to the 3D view:"
   ]
  },
  {
   "cell_type": "code",
   "execution_count": 6,
   "metadata": {},
   "outputs": [],
   "source": [
    "view3D.add_stl(stl_rec,name = \"receiver_3\",color = \"#e0e0e0\",opacity = .1)\n",
    "view3D.add_stl(stl_tm,name = \"transmission_mount_3\",color = \"#83afd2\",opacity = .1)\n",
    "view3D.add_stl(stl_rm,name = \"roll_mount_3\",color = \"#83afd2\",opacity = .1)\n",
    "view3D.add_stl(stl_em,name = \"engine_mount_3\",color = \"#83afd2\",opacity = .1)\n",
    "view3D.add_stl(stl_ts,name = \"ts_3\",color = \"#FB6D4C\",opacity = .1)\n",
    "view3D.add_stl(stl_shaker,name = \"shaker_only_3\",color = \"#FB6D4C\",opacity = .1);"
   ]
  },
  {
   "cell_type": "markdown",
   "metadata": {},
   "source": [
    "Add accelerometers to the 3D display:"
   ]
  },
  {
   "cell_type": "code",
   "execution_count": 7,
   "metadata": {},
   "outputs": [],
   "source": [
    "df_acc = pd.read_excel(pos_xlsx, sheet_name='Sensors')\n",
    "\n",
    "view3D.show_acc(df_acc,scale = 1000) # the units are in m, scale factor of 1000 is required"
   ]
  },
  {
   "cell_type": "markdown",
   "metadata": {},
   "source": [
    "Add channels to the 3D display:"
   ]
  },
  {
   "cell_type": "code",
   "execution_count": 8,
   "metadata": {},
   "outputs": [],
   "source": [
    "df_chn = pd.read_excel(pos_xlsx, sheet_name='Channels')"
   ]
  },
  {
   "cell_type": "markdown",
   "metadata": {},
   "source": [
    "Add impacts to the 3D display:"
   ]
  },
  {
   "cell_type": "code",
   "execution_count": 9,
   "metadata": {},
   "outputs": [],
   "source": [
    "df_imp = pd.read_excel(pos_xlsx, sheet_name='Impacts')\n",
    "\n",
    "view3D.show_imp(df_imp,scale = 1000)\n",
    "view3D.label_imp(df_imp,scale = 1000)"
   ]
  },
  {
   "cell_type": "markdown",
   "metadata": {},
   "source": [
    "#### Experimental example\n",
    "Load experimental data for the operational deflection shape animation"
   ]
  },
  {
   "cell_type": "code",
   "execution_count": 10,
   "metadata": {},
   "outputs": [],
   "source": [
    "_file = r\"./automotive_testbench/Measurements/ODS.p\"\n",
    "freq, Y_ODS = np.load(_file,allow_pickle = True)"
   ]
  },
  {
   "cell_type": "markdown",
   "metadata": {},
   "source": [
    "Checkout a single FRF:"
   ]
  },
  {
   "cell_type": "code",
   "execution_count": 11,
   "metadata": {},
   "outputs": [
    {
     "data": {
      "text/html": [
       "<div>\n",
       "<style scoped>\n",
       "    .dataframe tbody tr th:only-of-type {\n",
       "        vertical-align: middle;\n",
       "    }\n",
       "\n",
       "    .dataframe tbody tr th {\n",
       "        vertical-align: top;\n",
       "    }\n",
       "\n",
       "    .dataframe thead th {\n",
       "        text-align: right;\n",
       "    }\n",
       "</style>\n",
       "<table border=\"1\" class=\"dataframe\">\n",
       "  <thead>\n",
       "    <tr style=\"text-align: right;\">\n",
       "      <th></th>\n",
       "      <th>Name</th>\n",
       "      <th>Description</th>\n",
       "      <th>Quantity</th>\n",
       "      <th>Grouping</th>\n",
       "      <th>Position_1</th>\n",
       "      <th>Position_2</th>\n",
       "      <th>Position_3</th>\n",
       "      <th>Direction_1</th>\n",
       "      <th>Direction_2</th>\n",
       "      <th>Direction_3</th>\n",
       "    </tr>\n",
       "  </thead>\n",
       "  <tbody>\n",
       "    <tr>\n",
       "      <th>5</th>\n",
       "      <td>S2z</td>\n",
       "      <td>NaN</td>\n",
       "      <td>NaN</td>\n",
       "      <td>NaN</td>\n",
       "      <td>0.36</td>\n",
       "      <td>0.01</td>\n",
       "      <td>0.025</td>\n",
       "      <td>0.0</td>\n",
       "      <td>0.0</td>\n",
       "      <td>1.0</td>\n",
       "    </tr>\n",
       "  </tbody>\n",
       "</table>\n",
       "</div>"
      ],
      "text/plain": [
       "  Name  Description  Quantity  Grouping  Position_1  Position_2  Position_3  \\\n",
       "5  S2z          NaN       NaN       NaN        0.36        0.01       0.025   \n",
       "\n",
       "   Direction_1  Direction_2  Direction_3  \n",
       "5          0.0          0.0          1.0  "
      ]
     },
     "metadata": {},
     "output_type": "display_data"
    },
    {
     "data": {
      "text/html": [
       "<div>\n",
       "<style scoped>\n",
       "    .dataframe tbody tr th:only-of-type {\n",
       "        vertical-align: middle;\n",
       "    }\n",
       "\n",
       "    .dataframe tbody tr th {\n",
       "        vertical-align: top;\n",
       "    }\n",
       "\n",
       "    .dataframe thead th {\n",
       "        text-align: right;\n",
       "    }\n",
       "</style>\n",
       "<table border=\"1\" class=\"dataframe\">\n",
       "  <thead>\n",
       "    <tr style=\"text-align: right;\">\n",
       "      <th></th>\n",
       "      <th>Name</th>\n",
       "      <th>Description</th>\n",
       "      <th>Quantity</th>\n",
       "      <th>Grouping</th>\n",
       "      <th>Position_1</th>\n",
       "      <th>Position_2</th>\n",
       "      <th>Position_3</th>\n",
       "      <th>Direction_1</th>\n",
       "      <th>Direction_2</th>\n",
       "      <th>Direction_3</th>\n",
       "    </tr>\n",
       "  </thead>\n",
       "  <tbody>\n",
       "    <tr>\n",
       "      <th>1</th>\n",
       "      <td>H2</td>\n",
       "      <td>-X</td>\n",
       "      <td>NaN</td>\n",
       "      <td>NaN</td>\n",
       "      <td>0.4</td>\n",
       "      <td>0.01</td>\n",
       "      <td>0.31</td>\n",
       "      <td>-1</td>\n",
       "      <td>0</td>\n",
       "      <td>0</td>\n",
       "    </tr>\n",
       "  </tbody>\n",
       "</table>\n",
       "</div>"
      ],
      "text/plain": [
       "  Name Description  Quantity  Grouping  Position_1  Position_2  Position_3  \\\n",
       "1   H2          -X       NaN       NaN         0.4        0.01        0.31   \n",
       "\n",
       "   Direction_1  Direction_2  Direction_3  \n",
       "1           -1            0            0  "
      ]
     },
     "metadata": {},
     "output_type": "display_data"
    },
    {
     "data": {
      "text/plain": [
       "[<matplotlib.lines.Line2D at 0x249ac041d08>]"
      ]
     },
     "execution_count": 11,
     "metadata": {},
     "output_type": "execute_result"
    },
    {
     "data": {
      "image/png": "[encoded data removed]",
      "text/plain": [
       "<Figure size 576x432 with 2 Axes>"
      ]
     },
     "metadata": {
      "needs_background": "light"
     },
     "output_type": "display_data"
    }
   ],
   "source": [
    "select_out = 5\n",
    "select_in = 1\n",
    "\n",
    "display(df_chn.iloc[[select_out]])\n",
    "display(df_imp.iloc[[select_in]])\n",
    "\n",
    "plt.figure(figsize = (8,6))\n",
    "plt.subplot(211)\n",
    "plt.semilogy(freq,np.abs(Y_ODS[:,select_out,select_in]))\n",
    "\n",
    "plt.subplot(413)\n",
    "plt.plot(freq,np.angle(Y_ODS[:,select_out,select_in]))"
   ]
  },
  {
   "cell_type": "markdown",
   "metadata": {},
   "source": [
    "#### Accelerometer animation \n",
    "The objects placed in the 3D view can be simply animated. In this example an operational deflection shape at a certain impact position can be animated: "
   ]
  },
  {
   "cell_type": "code",
   "execution_count": 12,
   "metadata": {},
   "outputs": [],
   "source": [
    "freq_sel = -1\n",
    "select_in = 6\n",
    "\n",
    "emp_2 = pyFBS.orient_in_global(Y_ODS[freq_sel,:,select_in],df_chn,df_acc)\n",
    "\n",
    "mode_dict = pyFBS.dict_animation(emp_2,\"object\",object_list = view3D.global_acc,r_scale=30)\n",
    "mode_dict[\"freq\"] = freq[freq_sel]\n",
    "view3D.add_objects_animation(mode_dict,run_animation = True,add_note= True)"
   ]
  },
  {
   "cell_type": "markdown",
   "metadata": {},
   "source": [
    "#### GIF export\n",
    "The `pyFBS` supports also an export to a GIF file. Before running the animation just set the output directory `view3D.gif_dir` and set the variable `view3D.take_gif = True`. When the GIF is exporting the animation lags the animation can lag in the 3D display."
   ]
  },
  {
   "cell_type": "code",
   "execution_count": 13,
   "metadata": {},
   "outputs": [],
   "source": [
    "# view3D.take_gif = True\n",
    "# view3D.gif_dir = \"output.gif\"\n",
    "\n",
    "# view3D.add_objects_animation(mode_dict,run_animation = True,add_note= True)"
   ]
  }
 ],
 "metadata": {
  "kernelspec": {
   "display_name": "Python 3",
   "language": "python",
   "name": "python3"
  },
  "language_info": {
   "codemirror_mode": {
    "name": "ipython",
    "version": 3
   },
   "file_extension": ".py",
   "mimetype": "text/x-python",
   "name": "python",
   "nbconvert_exporter": "python",
   "pygments_lexer": "ipython3",
   "version": "3.8.3"
  }
 },
 "nbformat": 4,
 "nbformat_minor": 4
}
