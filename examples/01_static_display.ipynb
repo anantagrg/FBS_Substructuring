{
 "cells": [
  {
   "cell_type": "markdown",
   "metadata": {},
   "source": [
    "# 01 Static display\n",
    "The positions and orientations of sensors, impacts, channels and virtual points can be simply visualized with the pyFBS. Additionaly, arbitrary structures can be added to display. For the 3D visualization a python package [PyVista](https://docs.pyvista.org/index.html) is used."
   ]
  },
  {
   "cell_type": "code",
   "execution_count": 2,
   "metadata": {},
   "outputs": [],
   "source": [
    "import pyFBS"
   ]
  },
  {
   "cell_type": "markdown",
   "metadata": {},
   "source": [
    "## 3D View\n",
    "First open 3Dviewer in the background, by default a CSYS is placed in the origin and an orientation box is placed in the bottom left corner."
   ]
  },
  {
   "cell_type": "code",
   "execution_count": 3,
   "metadata": {},
   "outputs": [],
   "source": [
    "view3D = pyFBS.view3D()"
   ]
  },
  {
   "cell_type": "markdown",
   "metadata": {},
   "source": [
    "#### Example datasets\n",
    "In the `pyFBS` two example datasets are available for download, so you can try out the basic working examples directly after installing the package. "
   ]
  },
  {
   "cell_type": "code",
   "execution_count": 4,
   "metadata": {},
   "outputs": [
    {
     "name": "stderr",
     "output_type": "stream",
     "text": [
      "100%|██████████████████████████████████████████████████████████████████████████████████| 6/6 [00:00<00:00, 5896.40it/s]\n",
      "100%|██████████████████████████████████████████████████████████████████████████████████| 3/3 [00:00<00:00, 6006.16it/s]\n",
      "100%|██████████████████████████████████████████████████████████████████████████████████| 7/7 [00:00<00:00, 6998.84it/s]"
     ]
    },
    {
     "name": "stdout",
     "output_type": "stream",
     "text": [
      "Downloading FEM files\n",
      "Downloading STL files\n",
      "Downloading Measurements files\n"
     ]
    },
    {
     "name": "stderr",
     "output_type": "stream",
     "text": [
      "\n"
     ]
    }
   ],
   "source": [
    "pyFBS.download_lab_testbench()"
   ]
  },
  {
   "cell_type": "markdown",
   "metadata": {},
   "source": [
    "#### Adding structures\n",
    "Add a structure to the 3D view (currently only STL files are supported)."
   ]
  },
  {
   "cell_type": "code",
   "execution_count": 5,
   "metadata": {},
   "outputs": [],
   "source": [
    "stl_dir_A = r\"./lab_testbench/STL/A.stl\"\n",
    "view3D.add_stl(stl_dir_A,color = \"#FB6D4C\",name = \"A\");\n",
    "\n",
    "stl_dir_B = r\"./lab_testbench/STL/B.stl\"\n",
    "view3D.add_stl(stl_dir_B,color = \"#83afd2\",name = \"B\");"
   ]
  },
  {
   "cell_type": "markdown",
   "metadata": {},
   "source": [
    "### Integration with pandas\n",
    "The positional and orientation information on degrees of freedom in `pyFBS` is obtained from the `pd.DataFrame`. "
   ]
  },
  {
   "cell_type": "code",
   "execution_count": 6,
   "metadata": {},
   "outputs": [],
   "source": [
    "import pandas as pd"
   ]
  },
  {
   "cell_type": "markdown",
   "metadata": {},
   "source": [
    "#### Accelerometers\n",
    "The `pd.DataFrame` can be created directly within `pyFBS` (see the example *02_interactive_display.ipynb*) or can be loaded from an Excel file."
   ]
  },
  {
   "cell_type": "code",
   "execution_count": 7,
   "metadata": {},
   "outputs": [
    {
     "data": {
      "text/html": [
       "<div>\n",
       "<style scoped>\n",
       "    .dataframe tbody tr th:only-of-type {\n",
       "        vertical-align: middle;\n",
       "    }\n",
       "\n",
       "    .dataframe tbody tr th {\n",
       "        vertical-align: top;\n",
       "    }\n",
       "\n",
       "    .dataframe thead th {\n",
       "        text-align: right;\n",
       "    }\n",
       "</style>\n",
       "<table border=\"1\" class=\"dataframe\">\n",
       "  <thead>\n",
       "    <tr style=\"text-align: right;\">\n",
       "      <th></th>\n",
       "      <th>Name</th>\n",
       "      <th>Description</th>\n",
       "      <th>Grouping</th>\n",
       "      <th>Quantity</th>\n",
       "      <th>Position_1</th>\n",
       "      <th>Position_2</th>\n",
       "      <th>Position_3</th>\n",
       "      <th>Orientation_1</th>\n",
       "      <th>Orientation_2</th>\n",
       "      <th>Orientation_3</th>\n",
       "    </tr>\n",
       "  </thead>\n",
       "  <tbody>\n",
       "    <tr>\n",
       "      <th>0</th>\n",
       "      <td>S1</td>\n",
       "      <td>AM_AB_final</td>\n",
       "      <td>100</td>\n",
       "      <td>Acceleration</td>\n",
       "      <td>-76.519042</td>\n",
       "      <td>142.987475</td>\n",
       "      <td>22.100001</td>\n",
       "      <td>0</td>\n",
       "      <td>0.00000</td>\n",
       "      <td>45.165835</td>\n",
       "    </tr>\n",
       "    <tr>\n",
       "      <th>1</th>\n",
       "      <td>S2</td>\n",
       "      <td>AM_AB_final</td>\n",
       "      <td>100</td>\n",
       "      <td>Acceleration</td>\n",
       "      <td>-41.679129</td>\n",
       "      <td>278.837681</td>\n",
       "      <td>22.100001</td>\n",
       "      <td>0</td>\n",
       "      <td>0.00000</td>\n",
       "      <td>-50.268469</td>\n",
       "    </tr>\n",
       "    <tr>\n",
       "      <th>2</th>\n",
       "      <td>S3</td>\n",
       "      <td>AM_AB_final</td>\n",
       "      <td>1</td>\n",
       "      <td>Acceleration</td>\n",
       "      <td>19.417001</td>\n",
       "      <td>342.180967</td>\n",
       "      <td>32.100001</td>\n",
       "      <td>0</td>\n",
       "      <td>0.00000</td>\n",
       "      <td>-50.198340</td>\n",
       "    </tr>\n",
       "    <tr>\n",
       "      <th>3</th>\n",
       "      <td>S4</td>\n",
       "      <td>AM_AB_final</td>\n",
       "      <td>1</td>\n",
       "      <td>Acceleration</td>\n",
       "      <td>33.938789</td>\n",
       "      <td>369.124840</td>\n",
       "      <td>-7.518755</td>\n",
       "      <td>0</td>\n",
       "      <td>-90.00000</td>\n",
       "      <td>-49.999999</td>\n",
       "    </tr>\n",
       "    <tr>\n",
       "      <th>4</th>\n",
       "      <td>S5</td>\n",
       "      <td>AM_AB_final</td>\n",
       "      <td>1</td>\n",
       "      <td>Acceleration</td>\n",
       "      <td>68.643148</td>\n",
       "      <td>344.110033</td>\n",
       "      <td>19.960318</td>\n",
       "      <td>0</td>\n",
       "      <td>-89.99993</td>\n",
       "      <td>-140.000005</td>\n",
       "    </tr>\n",
       "    <tr>\n",
       "      <th>5</th>\n",
       "      <td>S6</td>\n",
       "      <td>AM_AB_final</td>\n",
       "      <td>10</td>\n",
       "      <td>Acceleration</td>\n",
       "      <td>111.589931</td>\n",
       "      <td>271.543175</td>\n",
       "      <td>32.100001</td>\n",
       "      <td>0</td>\n",
       "      <td>0.00000</td>\n",
       "      <td>95.075237</td>\n",
       "    </tr>\n",
       "    <tr>\n",
       "      <th>6</th>\n",
       "      <td>S7</td>\n",
       "      <td>AM_AB_final</td>\n",
       "      <td>10</td>\n",
       "      <td>Acceleration</td>\n",
       "      <td>183.385819</td>\n",
       "      <td>384.476274</td>\n",
       "      <td>32.100001</td>\n",
       "      <td>0</td>\n",
       "      <td>0.00000</td>\n",
       "      <td>-51.160633</td>\n",
       "    </tr>\n",
       "    <tr>\n",
       "      <th>7</th>\n",
       "      <td>S8</td>\n",
       "      <td>AM_AB_final</td>\n",
       "      <td>10</td>\n",
       "      <td>Acceleration</td>\n",
       "      <td>241.944452</td>\n",
       "      <td>294.322827</td>\n",
       "      <td>-4.389652</td>\n",
       "      <td>0</td>\n",
       "      <td>-90.00000</td>\n",
       "      <td>40.000006</td>\n",
       "    </tr>\n",
       "    <tr>\n",
       "      <th>8</th>\n",
       "      <td>S9</td>\n",
       "      <td>AM_AB_final</td>\n",
       "      <td>10</td>\n",
       "      <td>Acceleration</td>\n",
       "      <td>315.196534</td>\n",
       "      <td>207.024374</td>\n",
       "      <td>20.318070</td>\n",
       "      <td>0</td>\n",
       "      <td>-90.00000</td>\n",
       "      <td>40.000006</td>\n",
       "    </tr>\n",
       "  </tbody>\n",
       "</table>\n",
       "</div>"
      ],
      "text/plain": [
       "  Name  Description  Grouping      Quantity  Position_1  Position_2  \\\n",
       "0   S1  AM_AB_final       100  Acceleration  -76.519042  142.987475   \n",
       "1   S2  AM_AB_final       100  Acceleration  -41.679129  278.837681   \n",
       "2   S3  AM_AB_final         1  Acceleration   19.417001  342.180967   \n",
       "3   S4  AM_AB_final         1  Acceleration   33.938789  369.124840   \n",
       "4   S5  AM_AB_final         1  Acceleration   68.643148  344.110033   \n",
       "5   S6  AM_AB_final        10  Acceleration  111.589931  271.543175   \n",
       "6   S7  AM_AB_final        10  Acceleration  183.385819  384.476274   \n",
       "7   S8  AM_AB_final        10  Acceleration  241.944452  294.322827   \n",
       "8   S9  AM_AB_final        10  Acceleration  315.196534  207.024374   \n",
       "\n",
       "   Position_3  Orientation_1  Orientation_2  Orientation_3  \n",
       "0   22.100001              0        0.00000      45.165835  \n",
       "1   22.100001              0        0.00000     -50.268469  \n",
       "2   32.100001              0        0.00000     -50.198340  \n",
       "3   -7.518755              0      -90.00000     -49.999999  \n",
       "4   19.960318              0      -89.99993    -140.000005  \n",
       "5   32.100001              0        0.00000      95.075237  \n",
       "6   32.100001              0        0.00000     -51.160633  \n",
       "7   -4.389652              0      -90.00000      40.000006  \n",
       "8   20.318070              0      -90.00000      40.000006  "
      ]
     },
     "execution_count": 7,
     "metadata": {},
     "output_type": "execute_result"
    }
   ],
   "source": [
    "pos_xlsx = r\"./lab_testbench/Measurements/AM_measurements.xlsx\"\n",
    "df_acc = pd.read_excel(pos_xlsx, sheet_name='Sensors_AB')\n",
    "df_acc"
   ]
  },
  {
   "cell_type": "markdown",
   "metadata": {},
   "source": [
    "Accelerometers can be simply added to the 3D view from the predefined `pd.DataFrame` file together with labels:"
   ]
  },
  {
   "cell_type": "code",
   "execution_count": 8,
   "metadata": {},
   "outputs": [],
   "source": [
    "view3D.show_acc(df_acc)\n",
    "view3D.label_acc(df_acc,font_size = 20)"
   ]
  },
  {
   "cell_type": "markdown",
   "metadata": {},
   "source": [
    "#### Channels\n",
    "Channels can simply be added to the 3D view from the predefined `pd.DataFrame` file together with labels:"
   ]
  },
  {
   "cell_type": "code",
   "execution_count": 9,
   "metadata": {},
   "outputs": [],
   "source": [
    "df = pd.read_excel(pos_xlsx, sheet_name='Channels_AB')\n",
    "\n",
    "view3D.show_chn(df)\n",
    "#view3D.label_chn(df)"
   ]
  },
  {
   "cell_type": "markdown",
   "metadata": {},
   "source": [
    "#### Impacts\n",
    "Impacts can simply be added to the 3D view from the predefined `pd.DataFrame` file together with labels:"
   ]
  },
  {
   "cell_type": "code",
   "execution_count": 10,
   "metadata": {},
   "outputs": [],
   "source": [
    "df = pd.read_excel(pos_xlsx, sheet_name='Impacts_AB')\n",
    "\n",
    "view3D.show_imp(df)\n",
    "#view3D.label_imp(df)"
   ]
  },
  {
   "cell_type": "markdown",
   "metadata": {},
   "source": [
    "#### Virtual Points\n",
    "Virtual points can simply be added to the 3D view from the predefined `pd.DataFrame` file together with labels (for more information on the *virtual point*, refer to the example *04_VPT.ipynb* or check the documentation): "
   ]
  },
  {
   "cell_type": "code",
   "execution_count": 11,
   "metadata": {},
   "outputs": [],
   "source": [
    "df = pd.read_excel(pos_xlsx, sheet_name='VP_Channels')\n",
    "\n",
    "view3D.show_vp(df)\n",
    "view3D.label_vp(df)"
   ]
  },
  {
   "cell_type": "markdown",
   "metadata": {},
   "source": [
    "#### Additional commands\n",
    "\n",
    "The 3D viewer can be cleared by a simple command."
   ]
  },
  {
   "cell_type": "code",
   "execution_count": 12,
   "metadata": {},
   "outputs": [],
   "source": [
    "# view3D.plot.clear()"
   ]
  }
 ],
 "metadata": {
  "kernelspec": {
   "display_name": "testpyfbs",
   "language": "python",
   "name": "testpyfbs"
  },
  "language_info": {
   "codemirror_mode": {
    "name": "ipython",
    "version": 3
   },
   "file_extension": ".py",
   "mimetype": "text/x-python",
   "name": "python",
   "nbconvert_exporter": "python",
   "pygments_lexer": "ipython3",
   "version": "3.8.3"
  }
 },
 "nbformat": 4,
 "nbformat_minor": 4
}
