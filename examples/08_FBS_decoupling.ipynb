{
 "cells": [
  {
   "cell_type": "markdown",
   "metadata": {},
   "source": [
    "# 08 Decoupling example\n",
    "With the `pyFBS` also decoupling of different substructers can be performed in relatively simple manner. In this example a numerical example is used to demonstrate a basic coupling example with a virtual point transformation at the interface."
   ]
  },
  {
   "cell_type": "code",
   "execution_count": 2,
   "metadata": {},
   "outputs": [],
   "source": [
    "import pyFBS\n",
    "\n",
    "import numpy as np\n",
    "import matplotlib.pyplot as plt\n",
    "%matplotlib inline\n",
    "import pandas as pd"
   ]
  },
  {
   "cell_type": "markdown",
   "metadata": {},
   "source": [
    "#### Example Datasests\n",
    "Load the required predefined datasets:"
   ]
  },
  {
   "cell_type": "code",
   "execution_count": 3,
   "metadata": {},
   "outputs": [
    {
     "name": "stderr",
     "output_type": "stream",
     "text": [
      "100%|██████████████████████████████████████████████████████████████████████████████████| 6/6 [00:00<00:00, 3993.31it/s]\n",
      "100%|██████████████████████████████████████████████████████████████████████████████████| 3/3 [00:00<00:00, 5899.16it/s]\n",
      "100%|██████████████████████████████████████████████████████████████████████████████████| 7/7 [00:00<00:00, 6978.88it/s]"
     ]
    },
    {
     "name": "stdout",
     "output_type": "stream",
     "text": [
      "Downloading FEM files\n",
      "Downloading STL files\n",
      "Downloading Measurements files\n"
     ]
    },
    {
     "name": "stderr",
     "output_type": "stream",
     "text": [
      "\n"
     ]
    }
   ],
   "source": [
    "pyFBS.download_lab_testbench()"
   ]
  },
  {
   "cell_type": "code",
   "execution_count": 4,
   "metadata": {},
   "outputs": [],
   "source": [
    "pos_xlsx = r\"./lab_testbench/Measurements/decoupling_example.xlsx\"\n",
    "\n",
    "stl_dir_A = r\"./lab_testbench/STL/A.stl\"\n",
    "stl_dir_B = r\"./lab_testbench/STL/B.stl\"\n",
    "stl_dir_AB = r\"./lab_testbench/STL/AB.stl\"\n",
    "\n",
    "df_acc_A = pd.read_excel(pos_xlsx, sheet_name='Sensors_A')\n",
    "df_chn_A = pd.read_excel(pos_xlsx, sheet_name='Channels_A')\n",
    "df_imp_A = pd.read_excel(pos_xlsx, sheet_name='Impacts_A')\n",
    "\n",
    "df_acc_B = pd.read_excel(pos_xlsx, sheet_name='Sensors_B')\n",
    "df_chn_B = pd.read_excel(pos_xlsx, sheet_name='Channels_B')\n",
    "df_imp_B = pd.read_excel(pos_xlsx, sheet_name='Impacts_B')\n",
    "\n",
    "df_acc_AB = pd.read_excel(pos_xlsx, sheet_name='Sensors_AB')\n",
    "df_chn_AB = pd.read_excel(pos_xlsx, sheet_name='Channels_AB')\n",
    "df_imp_AB = pd.read_excel(pos_xlsx, sheet_name='Impacts_AB')"
   ]
  },
  {
   "cell_type": "markdown",
   "metadata": {},
   "source": [
    "## 3D view\n",
    "Open 3D viewer in the background. With the 3D viewer the subplot capabilities of [PyVista](https://docs.pyvista.org/index.html) can be used."
   ]
  },
  {
   "cell_type": "code",
   "execution_count": 5,
   "metadata": {},
   "outputs": [],
   "source": [
    "view3D = pyFBS.view3D(show_origin = False, show_axes = False,shape =  (1,3),title = \"Overview\")"
   ]
  },
  {
   "cell_type": "markdown",
   "metadata": {},
   "source": [
    "Add the STL file of substructure A to the 1-1 subplot and show the corresponding accelerometer, channels and impacts."
   ]
  },
  {
   "cell_type": "code",
   "execution_count": 6,
   "metadata": {},
   "outputs": [],
   "source": [
    "view3D.plot.subplot(0,0)\n",
    "view3D.plot.isometric_view()\n",
    "view3D.plot.add_text(\"A structure\", position='upper_left', font_size=10, color=\"k\", font=\"times\", name=\"A_structure\")\n",
    "\n",
    "view3D.add_stl(stl_dir_A,color = \"#83afd2\",name = \"A\");\n",
    "view3D.show_acc(df_acc_A,scale = 1000)\n",
    "view3D.show_imp(df_imp_A,scale = 1000)\n",
    "view3D.show_chn(df_chn_A,scale = 1000)"
   ]
  },
  {
   "cell_type": "markdown",
   "metadata": {},
   "source": [
    "Add the STL file of substructure B to the 1-2 subplot and show the corresponding accelerometer, channels and impacts."
   ]
  },
  {
   "cell_type": "code",
   "execution_count": 7,
   "metadata": {},
   "outputs": [],
   "source": [
    "view3D.plot.subplot(0,1)\n",
    "view3D.plot.isometric_view()\n",
    "view3D.plot.add_text(\"B structure\", position='upper_left', font_size=10, color=\"k\", font=\"times\", name=\"B_structure\")\n",
    "\n",
    "view3D.add_stl(stl_dir_B,color = \"#83afd2\",name = \"B\");\n",
    "view3D.show_acc(df_acc_B,scale = 1000,overwrite = False)\n",
    "view3D.show_imp(df_imp_B,scale = 1000,overwrite = False)\n",
    "view3D.show_chn(df_chn_B,scale = 1000,overwrite = False)"
   ]
  },
  {
   "cell_type": "markdown",
   "metadata": {},
   "source": [
    "Add STL file of the assembly AB to the 1-2 subplot and show the corresponding reference accelerometer, channels and impacts."
   ]
  },
  {
   "cell_type": "code",
   "execution_count": 8,
   "metadata": {},
   "outputs": [],
   "source": [
    "view3D.plot.subplot(0,2)\n",
    "view3D.plot.isometric_view()\n",
    "view3D.plot.add_text(\"AB structure\", position='upper_left', font_size=10, color=\"k\", font=\"times\", name=\"AB_structure\");\n",
    "\n",
    "view3D.add_stl(stl_dir_AB,color = \"#83afd2\",name = \"AB\");\n",
    "view3D.show_acc(df_acc_AB,scale = 1000,overwrite = False)\n",
    "view3D.show_imp(df_imp_AB,scale = 1000,overwrite = False)\n",
    "view3D.show_chn(df_chn_AB,scale = 1000,overwrite = False)"
   ]
  },
  {
   "cell_type": "markdown",
   "metadata": {},
   "source": [
    "Each separate subplot view can also be linked or unlinked:"
   ]
  },
  {
   "cell_type": "code",
   "execution_count": 9,
   "metadata": {},
   "outputs": [],
   "source": [
    "view3D.plot.link_views()\n",
    "#view3D.plot.unlink_views()"
   ]
  },
  {
   "cell_type": "markdown",
   "metadata": {},
   "source": [
    "## Numerical model\n",
    "Load the corresponding .full and .ress file from the example datasets. For more information on .full and .ress files refer to the *03_FRF_synthetization.ipynb* example"
   ]
  },
  {
   "cell_type": "code",
   "execution_count": 10,
   "metadata": {},
   "outputs": [],
   "source": [
    "full_file_AB = r\"./lab_testbench/FEM/AB.full\"\n",
    "ress_file_AB = r\"./lab_testbench/FEM/AB.rst\"\n",
    "\n",
    "full_file_B = r\"./lab_testbench/FEM/B.full\"\n",
    "ress_file_B = r\"./lab_testbench/FEM/B.rst\"\n",
    "\n",
    "full_file_A = r\"./lab_testbench/FEM/A.full\"\n",
    "ress_file_A = r\"./lab_testbench/FEM/A.rst\""
   ]
  },
  {
   "cell_type": "markdown",
   "metadata": {},
   "source": [
    "Create an MK model for each component:"
   ]
  },
  {
   "cell_type": "code",
   "execution_count": 11,
   "metadata": {},
   "outputs": [
    {
     "name": "stderr",
     "output_type": "stream",
     "text": [
      "C:\\Users\\tomaz.bregar\\Anaconda3\\lib\\site-packages\\pyvista\\core\\pointset.py:610: UserWarning: VTK 9 no longer accepts an offset array\n",
      "  warnings.warn('VTK 9 no longer accepts an offset array')\n"
     ]
    }
   ],
   "source": [
    "MK_A = pyFBS.MK_model(ress_file_A,full_file_A,no_modes = 100,allow_pickle= True,recalculate = False)\n",
    "MK_B = pyFBS.MK_model(ress_file_B,full_file_B,no_modes = 100,allow_pickle= True,recalculate = False)\n",
    "MK_AB = pyFBS.MK_model(ress_file_AB,full_file_AB,no_modes = 100,allow_pickle= True,recalculate = False)"
   ]
  },
  {
   "cell_type": "markdown",
   "metadata": {},
   "source": [
    "Update locations of channels and impacts to snap to the nearest FE node."
   ]
  },
  {
   "cell_type": "code",
   "execution_count": 12,
   "metadata": {},
   "outputs": [],
   "source": [
    "df_chn_A_up = MK_A.update_locations_df(df_chn_A,scale = 1000)\n",
    "df_imp_A_up = MK_A.update_locations_df(df_imp_A,scale = 1000)\n",
    "\n",
    "df_chn_B_up = MK_B.update_locations_df(df_chn_B,scale = 1000)\n",
    "df_imp_B_up = MK_B.update_locations_df(df_imp_B,scale = 1000)\n",
    "\n",
    "df_chn_AB_up = MK_AB.update_locations_df(df_chn_AB,scale = 1000)\n",
    "df_imp_AB_up = MK_AB.update_locations_df(df_imp_AB,scale = 1000)"
   ]
  },
  {
   "cell_type": "markdown",
   "metadata": {},
   "source": [
    "Perform the FRF sythetization for each component based on the updated locations."
   ]
  },
  {
   "cell_type": "code",
   "execution_count": 13,
   "metadata": {},
   "outputs": [],
   "source": [
    "MK_A.FRF_synth(df_chn_A_up,df_imp_A_up,f_start = 0,modal_damping = 0.003)\n",
    "MK_B.FRF_synth(df_chn_B_up,df_imp_B_up,f_start = 0,modal_damping = 0.003)\n",
    "MK_AB.FRF_synth(df_chn_AB_up,df_imp_AB_up,f_start = 0,modal_damping = 0.003)"
   ]
  },
  {
   "cell_type": "markdown",
   "metadata": {},
   "source": [
    "## Virtual point transformation\n",
    "The VPT can be performed directly on the generated data. See the *04_VPT.ipynb* example for more options and details."
   ]
  },
  {
   "cell_type": "code",
   "execution_count": 14,
   "metadata": {},
   "outputs": [],
   "source": [
    "df_vp = pd.read_excel(pos_xlsx, sheet_name='VP_Channels')\n",
    "df_vpref = pd.read_excel(pos_xlsx, sheet_name='VP_RefChannels')\n",
    "\n",
    "vpt_AB = pyFBS.VPT(df_chn_AB_up,df_imp_AB_up,df_vp,df_vpref)\n",
    "vpt_B = pyFBS.VPT(df_chn_B_up,df_imp_B_up,df_vp,df_vpref)"
   ]
  },
  {
   "cell_type": "markdown",
   "metadata": {},
   "source": [
    "Apply the defined VP transformation on the FRFs:"
   ]
  },
  {
   "cell_type": "code",
   "execution_count": 15,
   "metadata": {},
   "outputs": [],
   "source": [
    "vpt_AB.apply_VPT(MK_AB.freq,MK_AB.FRF)\n",
    "vpt_B.apply_VPT(MK_B.freq,MK_B.FRF)"
   ]
  },
  {
   "cell_type": "markdown",
   "metadata": {},
   "source": [
    "Extract the requried FRFs and the frequency vector:"
   ]
  },
  {
   "cell_type": "code",
   "execution_count": 16,
   "metadata": {},
   "outputs": [],
   "source": [
    "freq = MK_AB.freq\n",
    "Y_AB = vpt_AB.vptData\n",
    "Y_B = vpt_B.vptData"
   ]
  },
  {
   "cell_type": "markdown",
   "metadata": {},
   "source": [
    "## LM-FBS Decoupling\n",
    "\n",
    "First the compatibility and the equiliubrium condition has to be defined through the signed Boolean matrices. For this example the 6 VP DoFs at the interface are coupled."
   ]
  },
  {
   "cell_type": "code",
   "execution_count": 17,
   "metadata": {},
   "outputs": [
    {
     "data": {
      "text/plain": [
       "<matplotlib.image.AxesImage at 0x1782edb0a08>"
      ]
     },
     "execution_count": 17,
     "metadata": {},
     "output_type": "execute_result"
    },
    {
     "data": {
      "image/png": "[encoded data removed]",
      "text/plain": [
       "<Figure size 432x288 with 1 Axes>"
      ]
     },
     "metadata": {
      "needs_background": "light"
     },
     "output_type": "display_data"
    },
    {
     "data": {
      "image/png": "[encoded data removed]",
      "text/plain": [
       "<Figure size 432x288 with 1 Axes>"
      ]
     },
     "metadata": {
      "needs_background": "light"
     },
     "output_type": "display_data"
    }
   ],
   "source": [
    "Y_ABnB = np.zeros((2000,24+18,24+18),dtype = complex)\n",
    "\n",
    "Y_ABnB[:,0:24,0:24] = Y_AB\n",
    "Y_ABnB[:,24:,24:] =   -1*Y_B\n",
    "\n",
    "k = 6 + 12 # Extended compatibility and equilibrium to internal dofs\n",
    "Bu = np.zeros((k,24+18))\n",
    "Bu[:k,6:6+k] = 1*np.eye(k)\n",
    "Bu[:k,24:24+k] = -1*np.eye(k)\n",
    "\n",
    "plt.figure()\n",
    "plt.imshow(Bu)\n",
    "\n",
    "Bf = np.zeros((k,24+18))\n",
    "Bf[:k,6:6+k] = 1*np.eye(k)\n",
    "Bf[:k,24:24+k] = -1*np.eye(k)\n",
    "\n",
    "plt.figure()\n",
    "plt.imshow(Bf)"
   ]
  },
  {
   "cell_type": "markdown",
   "metadata": {},
   "source": [
    "Apply the LM-FBS based on the defined coompatibility and equilibrium conditions."
   ]
  },
  {
   "cell_type": "code",
   "execution_count": 18,
   "metadata": {},
   "outputs": [],
   "source": [
    "Y_An = np.zeros_like(Y_ABnB,dtype = complex)\n",
    "\n",
    "Y_int = Bu@Y_ABnB@Bf.T\n",
    "Y_An =Y_ABnB - Y_ABnB@Bf.T@np.linalg.pinv(Y_int)@Bu@Y_ABnB"
   ]
  },
  {
   "cell_type": "markdown",
   "metadata": {},
   "source": [
    "#### Final results\n",
    "First extract the FRFs at the reference DoFs:"
   ]
  },
  {
   "cell_type": "code",
   "execution_count": 19,
   "metadata": {},
   "outputs": [],
   "source": [
    "arr_coup = [0,1,2,3,4,5]\n",
    "Y_A_coupled = Y_An[:,arr_coup,:][:,:,arr_coup]\n",
    "Y_A_ref = MK_A.FRF"
   ]
  },
  {
   "cell_type": "markdown",
   "metadata": {},
   "source": [
    "The decoupled and the reference results can then be compared:"
   ]
  },
  {
   "cell_type": "code",
   "execution_count": 20,
   "metadata": {},
   "outputs": [
    {
     "data": {
      "text/html": [
       "<div>\n",
       "<style scoped>\n",
       "    .dataframe tbody tr th:only-of-type {\n",
       "        vertical-align: middle;\n",
       "    }\n",
       "\n",
       "    .dataframe tbody tr th {\n",
       "        vertical-align: top;\n",
       "    }\n",
       "\n",
       "    .dataframe thead th {\n",
       "        text-align: right;\n",
       "    }\n",
       "</style>\n",
       "<table border=\"1\" class=\"dataframe\">\n",
       "  <thead>\n",
       "    <tr style=\"text-align: right;\">\n",
       "      <th></th>\n",
       "      <th>Name</th>\n",
       "      <th>Description</th>\n",
       "      <th>Quantity</th>\n",
       "      <th>Grouping</th>\n",
       "      <th>Position_1</th>\n",
       "      <th>Position_2</th>\n",
       "      <th>Position_3</th>\n",
       "      <th>Direction_1</th>\n",
       "      <th>Direction_2</th>\n",
       "      <th>Direction_3</th>\n",
       "    </tr>\n",
       "  </thead>\n",
       "  <tbody>\n",
       "    <tr>\n",
       "      <th>0</th>\n",
       "      <td>S1 X</td>\n",
       "      <td>AM_AB_final</td>\n",
       "      <td>Acceleration</td>\n",
       "      <td>100</td>\n",
       "      <td>-75.540099</td>\n",
       "      <td>141.570046</td>\n",
       "      <td>17.000001</td>\n",
       "      <td>0.705057</td>\n",
       "      <td>0.70915</td>\n",
       "      <td>0.0</td>\n",
       "    </tr>\n",
       "  </tbody>\n",
       "</table>\n",
       "</div>"
      ],
      "text/plain": [
       "   Name  Description      Quantity  Grouping  Position_1  Position_2  \\\n",
       "0  S1 X  AM_AB_final  Acceleration       100  -75.540099  141.570046   \n",
       "\n",
       "   Position_3  Direction_1  Direction_2  Direction_3  \n",
       "0   17.000001     0.705057      0.70915          0.0  "
      ]
     },
     "metadata": {},
     "output_type": "display_data"
    },
    {
     "data": {
      "text/html": [
       "<div>\n",
       "<style scoped>\n",
       "    .dataframe tbody tr th:only-of-type {\n",
       "        vertical-align: middle;\n",
       "    }\n",
       "\n",
       "    .dataframe tbody tr th {\n",
       "        vertical-align: top;\n",
       "    }\n",
       "\n",
       "    .dataframe thead th {\n",
       "        text-align: right;\n",
       "    }\n",
       "</style>\n",
       "<table border=\"1\" class=\"dataframe\">\n",
       "  <thead>\n",
       "    <tr style=\"text-align: right;\">\n",
       "      <th></th>\n",
       "      <th>Name</th>\n",
       "      <th>Description</th>\n",
       "      <th>Grouping</th>\n",
       "      <th>Quantity</th>\n",
       "      <th>Position_1</th>\n",
       "      <th>Position_2</th>\n",
       "      <th>Position_3</th>\n",
       "      <th>Direction_1</th>\n",
       "      <th>Direction_2</th>\n",
       "      <th>Direction_3</th>\n",
       "    </tr>\n",
       "  </thead>\n",
       "  <tbody>\n",
       "    <tr>\n",
       "      <th>2</th>\n",
       "      <td>H3</td>\n",
       "      <td>AM_AB_final</td>\n",
       "      <td>100</td>\n",
       "      <td>Force</td>\n",
       "      <td>-111.18035</td>\n",
       "      <td>156.180347</td>\n",
       "      <td>0.333333</td>\n",
       "      <td>0.707107</td>\n",
       "      <td>0.707107</td>\n",
       "      <td>0.0</td>\n",
       "    </tr>\n",
       "  </tbody>\n",
       "</table>\n",
       "</div>"
      ],
      "text/plain": [
       "  Name  Description  Grouping Quantity  Position_1  Position_2  Position_3  \\\n",
       "2   H3  AM_AB_final       100    Force  -111.18035  156.180347    0.333333   \n",
       "\n",
       "   Direction_1  Direction_2  Direction_3  \n",
       "2     0.707107     0.707107          0.0  "
      ]
     },
     "metadata": {},
     "output_type": "display_data"
    },
    {
     "data": {
      "text/plain": [
       "(0.0, 2000.0)"
      ]
     },
     "execution_count": 20,
     "metadata": {},
     "output_type": "execute_result"
    },
    {
     "data": {
      "image/png": "[encoded data removed]",
      "text/plain": [
       "<Figure size 720x432 with 2 Axes>"
      ]
     },
     "metadata": {
      "needs_background": "light"
     },
     "output_type": "display_data"
    }
   ],
   "source": [
    "s1 = 0\n",
    "s2 = 2\n",
    "\n",
    "display(df_chn_AB_up.loc[[s1]])\n",
    "display(df_imp_AB_up.loc[[s2]])\n",
    "\n",
    "plt.figure(figsize = (10,6))\n",
    "plt.subplot(211)\n",
    "plt.semilogy(freq,np.abs(Y_A_ref[:,s1,s2]))\n",
    "plt.semilogy(freq,np.abs(Y_A_coupled[:,s1,s2]))\n",
    "\n",
    "plt.xlim(0,2000)\n",
    "\n",
    "plt.subplot(413)\n",
    "plt.plot(freq,np.angle(Y_A_ref[:,s1,s2]))\n",
    "plt.plot(freq,np.angle(Y_A_coupled[:,s1,s2]))\n",
    "\n",
    "\n",
    "plt.xlim(0,2000)"
   ]
  }
 ],
 "metadata": {
  "kernelspec": {
   "display_name": "Python 3",
   "language": "python",
   "name": "python3"
  },
  "language_info": {
   "codemirror_mode": {
    "name": "ipython",
    "version": 3
   },
   "file_extension": ".py",
   "mimetype": "text/x-python",
   "name": "python",
   "nbconvert_exporter": "python",
   "pygments_lexer": "ipython3",
   "version": "3.8.3"
  }
 },
 "nbformat": 4,
 "nbformat_minor": 4
}
