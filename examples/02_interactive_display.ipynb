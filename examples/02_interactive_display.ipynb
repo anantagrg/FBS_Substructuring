{
 "cells": [
  {
   "cell_type": "markdown",
   "metadata": {},
   "source": [
    "# 02 Interactive display\n",
    "Sensors, impacts and virtual points can be added and moved in the 3D view interactively. The objects can then be moved around in the 3D view. The `pyFBS` supports also snapping of the objects to the surface of a predefined mesh (ussualy obtained from a STL file). When object snaps to the surface, not only the position of the object changes, but also the orientation of the object alligns with the normal of the mesh at the intersection (this feature can also be disabled). "
   ]
  },
  {
   "cell_type": "code",
   "execution_count": 2,
   "metadata": {},
   "outputs": [],
   "source": [
    "import pyFBS\n",
    "\n",
    "import pandas as pd"
   ]
  },
  {
   "cell_type": "markdown",
   "metadata": {},
   "source": [
    "## 3D View\n",
    "Open 3Dviewer in the background."
   ]
  },
  {
   "cell_type": "code",
   "execution_count": 3,
   "metadata": {},
   "outputs": [],
   "source": [
    "view3D = pyFBS.view3D()"
   ]
  },
  {
   "cell_type": "markdown",
   "metadata": {},
   "source": [
    "#### Download example files"
   ]
  },
  {
   "cell_type": "code",
   "execution_count": 4,
   "metadata": {},
   "outputs": [
    {
     "name": "stderr",
     "output_type": "stream",
     "text": [
      "100%|█████████████████████████████████████████████████████████████████████████████████| 6/6 [00:00<00:00, 12012.33it/s]\n",
      "100%|██████████████████████████████████████████████████████████████████████████████████| 3/3 [00:00<00:00, 5980.47it/s]\n",
      "100%|██████████████████████████████████████████████████████████████████████████████████| 7/7 [00:00<00:00, 6872.69it/s]"
     ]
    },
    {
     "name": "stdout",
     "output_type": "stream",
     "text": [
      "Downloading FEM files\n",
      "Downloading STL files\n",
      "Downloading Measurements files\n"
     ]
    },
    {
     "name": "stderr",
     "output_type": "stream",
     "text": [
      "\n"
     ]
    }
   ],
   "source": [
    "pyFBS.download_lab_testbench()"
   ]
  },
  {
   "cell_type": "markdown",
   "metadata": {},
   "source": [
    "#### Add a structure\n",
    "Load an example laboratory testbench and add a mesh to the 3D view."
   ]
  },
  {
   "cell_type": "code",
   "execution_count": 5,
   "metadata": {},
   "outputs": [],
   "source": [
    "stl = r\"./lab_testbench/STL/A.stl\"\n",
    "mesh = view3D.add_stl(stl,name = \"ts\",color = \"#83afd2\")"
   ]
  },
  {
   "cell_type": "markdown",
   "metadata": {},
   "source": [
    "#### Datasets\n",
    "Load a predefined datasets from an example. "
   ]
  },
  {
   "cell_type": "code",
   "execution_count": 6,
   "metadata": {},
   "outputs": [],
   "source": [
    "pos_xlsx = r\"./lab_testbench/Measurements/AM_measurements.xlsx\"\n",
    "\n",
    "df_sensors = pd.read_excel(pos_xlsx, sheet_name='Sensors_A')\n",
    "df_impacts = pd.read_excel(pos_xlsx, sheet_name='Impacts_A')\n",
    "df_vp = pd.read_excel(pos_xlsx, sheet_name='VP_Channels')"
   ]
  },
  {
   "cell_type": "markdown",
   "metadata": {},
   "source": [
    "## Sensors\n",
    "To enable interaction of sensors in the 3D view, just simply call a function `view3D.add_acc_dynamic(mesh,predefined = df_sensors)`. This will place the predefined sensors in the display and enable interaction with them and will allow you to add additional sensors. If you are starting a completely new analysis, you don't need the predefined data you can simply start with an empty dataset (i.e. `predefined = None`).\n",
    "\n",
    "The object can be moved around by moving a black sphere in the 3D view. Arbitrary rotation around each local axis can be obtained my moving colored spheres (red - rotation around *X*, green - rotation around *Y*, blue - rotation around *Z*)"
   ]
  },
  {
   "cell_type": "code",
   "execution_count": 7,
   "metadata": {},
   "outputs": [],
   "source": [
    "view3D.add_acc_dynamic(mesh,predefined = df_sensors)"
   ]
  },
  {
   "cell_type": "markdown",
   "metadata": {},
   "source": [
    "Additonaly, fixed rotation angle can be defined by passing `fixed_rotation` variable when adding dynamic sensors in the display. After clicking on the sphere widget the sensor will rotate for the predetermined angle, based on the sign (clock or counterclockwise). "
   ]
  },
  {
   "cell_type": "code",
   "execution_count": 8,
   "metadata": {},
   "outputs": [],
   "source": [
    "view3D.add_acc_dynamic(mesh,predefined = df_sensors,fixed_rotation = 10)"
   ]
  },
  {
   "cell_type": "markdown",
   "metadata": {},
   "source": [
    "The position and orientation data can be obtained by simply calling a function `view3D.get_acc_data()`:  "
   ]
  },
  {
   "cell_type": "code",
   "execution_count": 9,
   "metadata": {},
   "outputs": [
    {
     "data": {
      "text/html": [
       "<div>\n",
       "<style scoped>\n",
       "    .dataframe tbody tr th:only-of-type {\n",
       "        vertical-align: middle;\n",
       "    }\n",
       "\n",
       "    .dataframe tbody tr th {\n",
       "        vertical-align: top;\n",
       "    }\n",
       "\n",
       "    .dataframe thead th {\n",
       "        text-align: right;\n",
       "    }\n",
       "</style>\n",
       "<table border=\"1\" class=\"dataframe\">\n",
       "  <thead>\n",
       "    <tr style=\"text-align: right;\">\n",
       "      <th></th>\n",
       "      <th>Name</th>\n",
       "      <th>Description</th>\n",
       "      <th>Quantity</th>\n",
       "      <th>Grouping</th>\n",
       "      <th>Position_1</th>\n",
       "      <th>Position_2</th>\n",
       "      <th>Position_3</th>\n",
       "      <th>Orientation_1</th>\n",
       "      <th>Orientation_2</th>\n",
       "      <th>Orientation_3</th>\n",
       "    </tr>\n",
       "  </thead>\n",
       "  <tbody>\n",
       "    <tr>\n",
       "      <th>0</th>\n",
       "      <td>Sensor 1</td>\n",
       "      <td>None</td>\n",
       "      <td>None</td>\n",
       "      <td>None</td>\n",
       "      <td>-76.519</td>\n",
       "      <td>142.987</td>\n",
       "      <td>22</td>\n",
       "      <td>0</td>\n",
       "      <td>0</td>\n",
       "      <td>45.1658</td>\n",
       "    </tr>\n",
       "    <tr>\n",
       "      <th>1</th>\n",
       "      <td>Sensor 2</td>\n",
       "      <td>None</td>\n",
       "      <td>None</td>\n",
       "      <td>None</td>\n",
       "      <td>-41.6791</td>\n",
       "      <td>278.838</td>\n",
       "      <td>22</td>\n",
       "      <td>0</td>\n",
       "      <td>0</td>\n",
       "      <td>-50.2685</td>\n",
       "    </tr>\n",
       "    <tr>\n",
       "      <th>2</th>\n",
       "      <td>Sensor 3</td>\n",
       "      <td>None</td>\n",
       "      <td>None</td>\n",
       "      <td>None</td>\n",
       "      <td>-76.519</td>\n",
       "      <td>142.987</td>\n",
       "      <td>22</td>\n",
       "      <td>0</td>\n",
       "      <td>0</td>\n",
       "      <td>45.1658</td>\n",
       "    </tr>\n",
       "    <tr>\n",
       "      <th>3</th>\n",
       "      <td>Sensor 4</td>\n",
       "      <td>None</td>\n",
       "      <td>None</td>\n",
       "      <td>None</td>\n",
       "      <td>-41.6791</td>\n",
       "      <td>278.838</td>\n",
       "      <td>22</td>\n",
       "      <td>0</td>\n",
       "      <td>0</td>\n",
       "      <td>-50.2685</td>\n",
       "    </tr>\n",
       "  </tbody>\n",
       "</table>\n",
       "</div>"
      ],
      "text/plain": [
       "       Name Description Quantity Grouping Position_1 Position_2 Position_3  \\\n",
       "0  Sensor 1        None     None     None    -76.519    142.987         22   \n",
       "1  Sensor 2        None     None     None   -41.6791    278.838         22   \n",
       "2  Sensor 3        None     None     None    -76.519    142.987         22   \n",
       "3  Sensor 4        None     None     None   -41.6791    278.838         22   \n",
       "\n",
       "  Orientation_1 Orientation_2 Orientation_3  \n",
       "0             0             0       45.1658  \n",
       "1             0             0      -50.2685  \n",
       "2             0             0       45.1658  \n",
       "3             0             0      -50.2685  "
      ]
     },
     "execution_count": 9,
     "metadata": {},
     "output_type": "execute_result"
    }
   ],
   "source": [
    "df_acc_updated = view3D.get_acc_data()\n",
    "df_acc_updated"
   ]
  },
  {
   "cell_type": "markdown",
   "metadata": {},
   "source": [
    "From the new positions and orientations of sensors a channel dataset can be generated (currently all the accelerometers are considered as tri-axial). If you have uni-axial accelerometers, redundant channels can be discarded afterwards."
   ]
  },
  {
   "cell_type": "code",
   "execution_count": 10,
   "metadata": {},
   "outputs": [
    {
     "data": {
      "text/html": [
       "<div>\n",
       "<style scoped>\n",
       "    .dataframe tbody tr th:only-of-type {\n",
       "        vertical-align: middle;\n",
       "    }\n",
       "\n",
       "    .dataframe tbody tr th {\n",
       "        vertical-align: top;\n",
       "    }\n",
       "\n",
       "    .dataframe thead th {\n",
       "        text-align: right;\n",
       "    }\n",
       "</style>\n",
       "<table border=\"1\" class=\"dataframe\">\n",
       "  <thead>\n",
       "    <tr style=\"text-align: right;\">\n",
       "      <th></th>\n",
       "      <th>Name</th>\n",
       "      <th>Description</th>\n",
       "      <th>Quantity</th>\n",
       "      <th>Grouping</th>\n",
       "      <th>Position_1</th>\n",
       "      <th>Position_2</th>\n",
       "      <th>Position_3</th>\n",
       "      <th>Direction_1</th>\n",
       "      <th>Direction_2</th>\n",
       "      <th>Direction_3</th>\n",
       "    </tr>\n",
       "  </thead>\n",
       "  <tbody>\n",
       "    <tr>\n",
       "      <th>0</th>\n",
       "      <td>Sensor 1x</td>\n",
       "      <td>None</td>\n",
       "      <td>None</td>\n",
       "      <td>None</td>\n",
       "      <td>-76.519</td>\n",
       "      <td>142.987</td>\n",
       "      <td>22</td>\n",
       "      <td>0.705057</td>\n",
       "      <td>0.70915</td>\n",
       "      <td>0</td>\n",
       "    </tr>\n",
       "    <tr>\n",
       "      <th>1</th>\n",
       "      <td>Sensor 1y</td>\n",
       "      <td>None</td>\n",
       "      <td>None</td>\n",
       "      <td>None</td>\n",
       "      <td>-76.519</td>\n",
       "      <td>142.987</td>\n",
       "      <td>22</td>\n",
       "      <td>-0.70915</td>\n",
       "      <td>0.705057</td>\n",
       "      <td>0</td>\n",
       "    </tr>\n",
       "    <tr>\n",
       "      <th>2</th>\n",
       "      <td>Sensor 1z</td>\n",
       "      <td>None</td>\n",
       "      <td>None</td>\n",
       "      <td>None</td>\n",
       "      <td>-76.519</td>\n",
       "      <td>142.987</td>\n",
       "      <td>22</td>\n",
       "      <td>0</td>\n",
       "      <td>0</td>\n",
       "      <td>1</td>\n",
       "    </tr>\n",
       "    <tr>\n",
       "      <th>3</th>\n",
       "      <td>Sensor 2x</td>\n",
       "      <td>None</td>\n",
       "      <td>None</td>\n",
       "      <td>None</td>\n",
       "      <td>-41.6791</td>\n",
       "      <td>278.838</td>\n",
       "      <td>22</td>\n",
       "      <td>0.639191</td>\n",
       "      <td>-0.769048</td>\n",
       "      <td>-0</td>\n",
       "    </tr>\n",
       "    <tr>\n",
       "      <th>4</th>\n",
       "      <td>Sensor 2y</td>\n",
       "      <td>None</td>\n",
       "      <td>None</td>\n",
       "      <td>None</td>\n",
       "      <td>-41.6791</td>\n",
       "      <td>278.838</td>\n",
       "      <td>22</td>\n",
       "      <td>0.769048</td>\n",
       "      <td>0.639191</td>\n",
       "      <td>0</td>\n",
       "    </tr>\n",
       "    <tr>\n",
       "      <th>5</th>\n",
       "      <td>Sensor 2z</td>\n",
       "      <td>None</td>\n",
       "      <td>None</td>\n",
       "      <td>None</td>\n",
       "      <td>-41.6791</td>\n",
       "      <td>278.838</td>\n",
       "      <td>22</td>\n",
       "      <td>0</td>\n",
       "      <td>-0</td>\n",
       "      <td>1</td>\n",
       "    </tr>\n",
       "    <tr>\n",
       "      <th>6</th>\n",
       "      <td>Sensor 3x</td>\n",
       "      <td>None</td>\n",
       "      <td>None</td>\n",
       "      <td>None</td>\n",
       "      <td>-76.519</td>\n",
       "      <td>142.987</td>\n",
       "      <td>22</td>\n",
       "      <td>0.705057</td>\n",
       "      <td>0.70915</td>\n",
       "      <td>0</td>\n",
       "    </tr>\n",
       "    <tr>\n",
       "      <th>7</th>\n",
       "      <td>Sensor 3y</td>\n",
       "      <td>None</td>\n",
       "      <td>None</td>\n",
       "      <td>None</td>\n",
       "      <td>-76.519</td>\n",
       "      <td>142.987</td>\n",
       "      <td>22</td>\n",
       "      <td>-0.70915</td>\n",
       "      <td>0.705057</td>\n",
       "      <td>0</td>\n",
       "    </tr>\n",
       "    <tr>\n",
       "      <th>8</th>\n",
       "      <td>Sensor 3z</td>\n",
       "      <td>None</td>\n",
       "      <td>None</td>\n",
       "      <td>None</td>\n",
       "      <td>-76.519</td>\n",
       "      <td>142.987</td>\n",
       "      <td>22</td>\n",
       "      <td>0</td>\n",
       "      <td>0</td>\n",
       "      <td>1</td>\n",
       "    </tr>\n",
       "    <tr>\n",
       "      <th>9</th>\n",
       "      <td>Sensor 4x</td>\n",
       "      <td>None</td>\n",
       "      <td>None</td>\n",
       "      <td>None</td>\n",
       "      <td>-41.6791</td>\n",
       "      <td>278.838</td>\n",
       "      <td>22</td>\n",
       "      <td>0.639191</td>\n",
       "      <td>-0.769048</td>\n",
       "      <td>-0</td>\n",
       "    </tr>\n",
       "    <tr>\n",
       "      <th>10</th>\n",
       "      <td>Sensor 4y</td>\n",
       "      <td>None</td>\n",
       "      <td>None</td>\n",
       "      <td>None</td>\n",
       "      <td>-41.6791</td>\n",
       "      <td>278.838</td>\n",
       "      <td>22</td>\n",
       "      <td>0.769048</td>\n",
       "      <td>0.639191</td>\n",
       "      <td>0</td>\n",
       "    </tr>\n",
       "    <tr>\n",
       "      <th>11</th>\n",
       "      <td>Sensor 4z</td>\n",
       "      <td>None</td>\n",
       "      <td>None</td>\n",
       "      <td>None</td>\n",
       "      <td>-41.6791</td>\n",
       "      <td>278.838</td>\n",
       "      <td>22</td>\n",
       "      <td>0</td>\n",
       "      <td>-0</td>\n",
       "      <td>1</td>\n",
       "    </tr>\n",
       "  </tbody>\n",
       "</table>\n",
       "</div>"
      ],
      "text/plain": [
       "         Name Description Quantity Grouping Position_1 Position_2 Position_3  \\\n",
       "0   Sensor 1x        None     None     None    -76.519    142.987         22   \n",
       "1   Sensor 1y        None     None     None    -76.519    142.987         22   \n",
       "2   Sensor 1z        None     None     None    -76.519    142.987         22   \n",
       "3   Sensor 2x        None     None     None   -41.6791    278.838         22   \n",
       "4   Sensor 2y        None     None     None   -41.6791    278.838         22   \n",
       "5   Sensor 2z        None     None     None   -41.6791    278.838         22   \n",
       "6   Sensor 3x        None     None     None    -76.519    142.987         22   \n",
       "7   Sensor 3y        None     None     None    -76.519    142.987         22   \n",
       "8   Sensor 3z        None     None     None    -76.519    142.987         22   \n",
       "9   Sensor 4x        None     None     None   -41.6791    278.838         22   \n",
       "10  Sensor 4y        None     None     None   -41.6791    278.838         22   \n",
       "11  Sensor 4z        None     None     None   -41.6791    278.838         22   \n",
       "\n",
       "   Direction_1 Direction_2 Direction_3  \n",
       "0     0.705057     0.70915           0  \n",
       "1     -0.70915    0.705057           0  \n",
       "2            0           0           1  \n",
       "3     0.639191   -0.769048          -0  \n",
       "4     0.769048    0.639191           0  \n",
       "5            0          -0           1  \n",
       "6     0.705057     0.70915           0  \n",
       "7     -0.70915    0.705057           0  \n",
       "8            0           0           1  \n",
       "9     0.639191   -0.769048          -0  \n",
       "10    0.769048    0.639191           0  \n",
       "11           0          -0           1  "
      ]
     },
     "execution_count": 10,
     "metadata": {},
     "output_type": "execute_result"
    }
   ],
   "source": [
    "df_chn_updated = pyFBS.utility.generate_channels_from_sensors(df_acc_updated)\n",
    "df_chn_updated"
   ]
  },
  {
   "cell_type": "markdown",
   "metadata": {},
   "source": [
    "If you have the channel dataset (tri-axial) you can generate the sensor dataset. This transformation is not unique and gimbal lock problem can arise. In this case third angle (rotation around Z axis) is set to zero and a warning is raised (see [scipy.spatial.transform.Rotation.as_euler](https://docs.scipy.org/doc/scipy/reference/generated/scipy.spatial.transform.Rotation.as_euler.html) for more details). Nevertheless, the obtained rotation angles still represent the correct rotation."
   ]
  },
  {
   "cell_type": "code",
   "execution_count": 11,
   "metadata": {},
   "outputs": [
    {
     "data": {
      "text/html": [
       "<div>\n",
       "<style scoped>\n",
       "    .dataframe tbody tr th:only-of-type {\n",
       "        vertical-align: middle;\n",
       "    }\n",
       "\n",
       "    .dataframe tbody tr th {\n",
       "        vertical-align: top;\n",
       "    }\n",
       "\n",
       "    .dataframe thead th {\n",
       "        text-align: right;\n",
       "    }\n",
       "</style>\n",
       "<table border=\"1\" class=\"dataframe\">\n",
       "  <thead>\n",
       "    <tr style=\"text-align: right;\">\n",
       "      <th></th>\n",
       "      <th>Name</th>\n",
       "      <th>Description</th>\n",
       "      <th>Quantity</th>\n",
       "      <th>Grouping</th>\n",
       "      <th>Position_1</th>\n",
       "      <th>Position_2</th>\n",
       "      <th>Position_3</th>\n",
       "      <th>Orientation_1</th>\n",
       "      <th>Orientation_2</th>\n",
       "      <th>Orientation_3</th>\n",
       "    </tr>\n",
       "  </thead>\n",
       "  <tbody>\n",
       "    <tr>\n",
       "      <th>0</th>\n",
       "      <td>S1</td>\n",
       "      <td>None</td>\n",
       "      <td>None</td>\n",
       "      <td>None</td>\n",
       "      <td>-76.519</td>\n",
       "      <td>142.987</td>\n",
       "      <td>22</td>\n",
       "      <td>0</td>\n",
       "      <td>0</td>\n",
       "      <td>45.1658</td>\n",
       "    </tr>\n",
       "    <tr>\n",
       "      <th>1</th>\n",
       "      <td>S2</td>\n",
       "      <td>None</td>\n",
       "      <td>None</td>\n",
       "      <td>None</td>\n",
       "      <td>-41.6791</td>\n",
       "      <td>278.838</td>\n",
       "      <td>22</td>\n",
       "      <td>0</td>\n",
       "      <td>0</td>\n",
       "      <td>-50.2685</td>\n",
       "    </tr>\n",
       "    <tr>\n",
       "      <th>2</th>\n",
       "      <td>S3</td>\n",
       "      <td>None</td>\n",
       "      <td>None</td>\n",
       "      <td>None</td>\n",
       "      <td>-76.519</td>\n",
       "      <td>142.987</td>\n",
       "      <td>22</td>\n",
       "      <td>0</td>\n",
       "      <td>0</td>\n",
       "      <td>45.1658</td>\n",
       "    </tr>\n",
       "    <tr>\n",
       "      <th>3</th>\n",
       "      <td>S4</td>\n",
       "      <td>None</td>\n",
       "      <td>None</td>\n",
       "      <td>None</td>\n",
       "      <td>-41.6791</td>\n",
       "      <td>278.838</td>\n",
       "      <td>22</td>\n",
       "      <td>0</td>\n",
       "      <td>0</td>\n",
       "      <td>-50.2685</td>\n",
       "    </tr>\n",
       "  </tbody>\n",
       "</table>\n",
       "</div>"
      ],
      "text/plain": [
       "  Name Description Quantity Grouping Position_1 Position_2 Position_3  \\\n",
       "0   S1        None     None     None    -76.519    142.987         22   \n",
       "1   S2        None     None     None   -41.6791    278.838         22   \n",
       "2   S3        None     None     None    -76.519    142.987         22   \n",
       "3   S4        None     None     None   -41.6791    278.838         22   \n",
       "\n",
       "  Orientation_1 Orientation_2 Orientation_3  \n",
       "0             0             0       45.1658  \n",
       "1             0             0      -50.2685  \n",
       "2             0             0       45.1658  \n",
       "3             0             0      -50.2685  "
      ]
     },
     "execution_count": 11,
     "metadata": {},
     "output_type": "execute_result"
    }
   ],
   "source": [
    "df_acc_from_chn = pyFBS.utility.generate_sensors_from_channels(df_chn_updated)\n",
    "df_acc_from_chn"
   ]
  },
  {
   "cell_type": "markdown",
   "metadata": {},
   "source": [
    "## Impacts"
   ]
  },
  {
   "cell_type": "markdown",
   "metadata": {},
   "source": [
    "Adding impacts interactively to the 3D view is the same, only the object display is different."
   ]
  },
  {
   "cell_type": "code",
   "execution_count": 12,
   "metadata": {},
   "outputs": [],
   "source": [
    "view3D.add_imp_dynamic(mesh,predefined = df_impacts)"
   ]
  },
  {
   "cell_type": "markdown",
   "metadata": {},
   "source": [
    "The updated positions and orientation of the virtual points can be obtained directly:"
   ]
  },
  {
   "cell_type": "code",
   "execution_count": 13,
   "metadata": {},
   "outputs": [
    {
     "data": {
      "text/html": [
       "<div>\n",
       "<style scoped>\n",
       "    .dataframe tbody tr th:only-of-type {\n",
       "        vertical-align: middle;\n",
       "    }\n",
       "\n",
       "    .dataframe tbody tr th {\n",
       "        vertical-align: top;\n",
       "    }\n",
       "\n",
       "    .dataframe thead th {\n",
       "        text-align: right;\n",
       "    }\n",
       "</style>\n",
       "<table border=\"1\" class=\"dataframe\">\n",
       "  <thead>\n",
       "    <tr style=\"text-align: right;\">\n",
       "      <th></th>\n",
       "      <th>Name</th>\n",
       "      <th>Description</th>\n",
       "      <th>Quantity</th>\n",
       "      <th>Grouping</th>\n",
       "      <th>Position_1</th>\n",
       "      <th>Position_2</th>\n",
       "      <th>Position_3</th>\n",
       "      <th>Direction_1</th>\n",
       "      <th>Direction_2</th>\n",
       "      <th>Direction_3</th>\n",
       "    </tr>\n",
       "  </thead>\n",
       "  <tbody>\n",
       "    <tr>\n",
       "      <th>0</th>\n",
       "      <td>Impact 1</td>\n",
       "      <td>None</td>\n",
       "      <td>None</td>\n",
       "      <td>None</td>\n",
       "      <td>14.3109</td>\n",
       "      <td>207.959</td>\n",
       "      <td>17</td>\n",
       "      <td>1.78301e-10</td>\n",
       "      <td>1.07637e-10</td>\n",
       "      <td>-1</td>\n",
       "    </tr>\n",
       "    <tr>\n",
       "      <th>1</th>\n",
       "      <td>Impact 2</td>\n",
       "      <td>None</td>\n",
       "      <td>None</td>\n",
       "      <td>None</td>\n",
       "      <td>-18.9236</td>\n",
       "      <td>318.11</td>\n",
       "      <td>7.29185</td>\n",
       "      <td>0.642787</td>\n",
       "      <td>-0.766045</td>\n",
       "      <td>0</td>\n",
       "    </tr>\n",
       "    <tr>\n",
       "      <th>2</th>\n",
       "      <td>Impact 3</td>\n",
       "      <td>None</td>\n",
       "      <td>None</td>\n",
       "      <td>None</td>\n",
       "      <td>-112.749</td>\n",
       "      <td>157.749</td>\n",
       "      <td>7.35692</td>\n",
       "      <td>0.707107</td>\n",
       "      <td>0.707107</td>\n",
       "      <td>1.17271e-10</td>\n",
       "    </tr>\n",
       "    <tr>\n",
       "      <th>3</th>\n",
       "      <td>Impact 4</td>\n",
       "      <td>None</td>\n",
       "      <td>None</td>\n",
       "      <td>None</td>\n",
       "      <td>-83.9125</td>\n",
       "      <td>243.174</td>\n",
       "      <td>17</td>\n",
       "      <td>1.00754e-10</td>\n",
       "      <td>0</td>\n",
       "      <td>-1</td>\n",
       "    </tr>\n",
       "    <tr>\n",
       "      <th>4</th>\n",
       "      <td>Impact 5</td>\n",
       "      <td>None</td>\n",
       "      <td>None</td>\n",
       "      <td>None</td>\n",
       "      <td>30</td>\n",
       "      <td>153.247</td>\n",
       "      <td>7.23164</td>\n",
       "      <td>-1</td>\n",
       "      <td>0</td>\n",
       "      <td>0</td>\n",
       "    </tr>\n",
       "    <tr>\n",
       "      <th>5</th>\n",
       "      <td>Impact 6</td>\n",
       "      <td>None</td>\n",
       "      <td>None</td>\n",
       "      <td>None</td>\n",
       "      <td>15.1714</td>\n",
       "      <td>48.171</td>\n",
       "      <td>17</td>\n",
       "      <td>1.03366e-10</td>\n",
       "      <td>1.66274e-10</td>\n",
       "      <td>-1</td>\n",
       "    </tr>\n",
       "  </tbody>\n",
       "</table>\n",
       "</div>"
      ],
      "text/plain": [
       "       Name Description Quantity Grouping Position_1 Position_2 Position_3  \\\n",
       "0  Impact 1        None     None     None    14.3109    207.959         17   \n",
       "1  Impact 2        None     None     None   -18.9236     318.11    7.29185   \n",
       "2  Impact 3        None     None     None   -112.749    157.749    7.35692   \n",
       "3  Impact 4        None     None     None   -83.9125    243.174         17   \n",
       "4  Impact 5        None     None     None         30    153.247    7.23164   \n",
       "5  Impact 6        None     None     None    15.1714     48.171         17   \n",
       "\n",
       "   Direction_1  Direction_2  Direction_3  \n",
       "0  1.78301e-10  1.07637e-10           -1  \n",
       "1     0.642787    -0.766045            0  \n",
       "2     0.707107     0.707107  1.17271e-10  \n",
       "3  1.00754e-10            0           -1  \n",
       "4           -1            0            0  \n",
       "5  1.03366e-10  1.66274e-10           -1  "
      ]
     },
     "execution_count": 13,
     "metadata": {},
     "output_type": "execute_result"
    }
   ],
   "source": [
    "df_imp_updated = view3D.get_imp_data()\n",
    "df_imp_updated"
   ]
  },
  {
   "cell_type": "markdown",
   "metadata": {},
   "source": [
    "## Virtual points"
   ]
  },
  {
   "cell_type": "markdown",
   "metadata": {},
   "source": [
    "Adding virtual points interactively to the 3D view is the same, only the object display is different."
   ]
  },
  {
   "cell_type": "code",
   "execution_count": 14,
   "metadata": {},
   "outputs": [],
   "source": [
    "view3D.add_vp_dynamic(mesh,predefined = df_vp)"
   ]
  },
  {
   "cell_type": "markdown",
   "metadata": {},
   "source": [
    "The updated positions and orientation of the virtual points can be obtained directly:"
   ]
  },
  {
   "cell_type": "code",
   "execution_count": 15,
   "metadata": {},
   "outputs": [
    {
     "data": {
      "text/html": [
       "<div>\n",
       "<style scoped>\n",
       "    .dataframe tbody tr th:only-of-type {\n",
       "        vertical-align: middle;\n",
       "    }\n",
       "\n",
       "    .dataframe tbody tr th {\n",
       "        vertical-align: top;\n",
       "    }\n",
       "\n",
       "    .dataframe thead th {\n",
       "        text-align: right;\n",
       "    }\n",
       "</style>\n",
       "<table border=\"1\" class=\"dataframe\">\n",
       "  <thead>\n",
       "    <tr style=\"text-align: right;\">\n",
       "      <th></th>\n",
       "      <th>Name</th>\n",
       "      <th>Description</th>\n",
       "      <th>Quantity</th>\n",
       "      <th>Grouping</th>\n",
       "      <th>Position_1</th>\n",
       "      <th>Position_2</th>\n",
       "      <th>Position_3</th>\n",
       "      <th>Orientation_1</th>\n",
       "      <th>Orientation_2</th>\n",
       "      <th>Orientation_3</th>\n",
       "    </tr>\n",
       "  </thead>\n",
       "  <tbody>\n",
       "    <tr>\n",
       "      <th>0</th>\n",
       "      <td>VP 1</td>\n",
       "      <td>None</td>\n",
       "      <td>None</td>\n",
       "      <td>None</td>\n",
       "      <td>34.0844</td>\n",
       "      <td>348.107</td>\n",
       "      <td>7</td>\n",
       "      <td>0</td>\n",
       "      <td>0</td>\n",
       "      <td>0</td>\n",
       "    </tr>\n",
       "  </tbody>\n",
       "</table>\n",
       "</div>"
      ],
      "text/plain": [
       "   Name Description Quantity Grouping Position_1 Position_2 Position_3  \\\n",
       "0  VP 1        None     None     None    34.0844    348.107          7   \n",
       "\n",
       "  Orientation_1 Orientation_2 Orientation_3  \n",
       "0             0             0             0  "
      ]
     },
     "execution_count": 15,
     "metadata": {},
     "output_type": "execute_result"
    }
   ],
   "source": [
    "df_vp_updated = view3D.get_vp_data()\n",
    "df_vp_updated"
   ]
  },
  {
   "cell_type": "markdown",
   "metadata": {},
   "source": [
    "## Output\n",
    "You can save the new positions and orientations of the objects in Excel file in a simple manner:  "
   ]
  },
  {
   "cell_type": "code",
   "execution_count": 16,
   "metadata": {},
   "outputs": [],
   "source": [
    "# with pd.ExcelWriter('./output_file.xlsx') as writer:  \n",
    "#     df_acc_updated.to_excel(writer, sheet_name='Sensors',index = False)\n",
    "#     df_imp_updated.to_excel(writer, sheet_name='Impacts',index = False)\n",
    "#     df_chn_updated.to_excel(writer, sheet_name='Channels',index = False)"
   ]
  }
 ],
 "metadata": {
  "kernelspec": {
   "display_name": "Python 3",
   "language": "python",
   "name": "python3"
  },
  "language_info": {
   "codemirror_mode": {
    "name": "ipython",
    "version": 3
   },
   "file_extension": ".py",
   "mimetype": "text/x-python",
   "name": "python",
   "nbconvert_exporter": "python",
   "pygments_lexer": "ipython3",
   "version": "3.8.3"
  }
 },
 "nbformat": 4,
 "nbformat_minor": 4
}
