{
 "cells": [
  {
   "cell_type": "markdown",
   "metadata": {},
   "source": [
    "# transmissibility-based TPA: FRF based"
   ]
  },
  {
   "cell_type": "markdown",
   "metadata": {},
   "source": [
    "In this example a numerical example is used to demonstrate a FRF based TPA example."
   ]
  },
  {
   "cell_type": "code",
   "execution_count": 2,
   "metadata": {},
   "outputs": [],
   "source": [
    "import pyFBS\n",
    "\n",
    "import numpy as np\n",
    "import pandas as pd\n",
    "import matplotlib.pyplot as plt\n",
    "from matplotlib import cm\n",
    "from matplotlib.colors import LogNorm\n",
    "%matplotlib inline"
   ]
  },
  {
   "cell_type": "markdown",
   "metadata": {},
   "source": [
    "## Example datasets"
   ]
  },
  {
   "cell_type": "markdown",
   "metadata": {},
   "source": [
    "Load the required predefined datasets:"
   ]
  },
  {
   "cell_type": "code",
   "execution_count": 3,
   "metadata": {},
   "outputs": [
    {
     "name": "stderr",
     "output_type": "stream",
     "text": [
      "100%|█████████████████████████████████████████████████████████████████████████████████| 6/6 [00:00<00:00, 12390.85it/s]\n",
      "100%|██████████████████████████████████████████████████████████████████████████████████| 3/3 [00:00<00:00, 3000.93it/s]\n",
      "100%|██████████████████████████████████████████████████████████████████████████████████| 7/7 [00:00<00:00, 4654.43it/s]"
     ]
    },
    {
     "name": "stdout",
     "output_type": "stream",
     "text": [
      "Downloading FEM files\n",
      "Downloading STL files\n",
      "Downloading Measurements files\n"
     ]
    },
    {
     "name": "stderr",
     "output_type": "stream",
     "text": [
      "\n"
     ]
    }
   ],
   "source": [
    "pyFBS.download_lab_testbench()"
   ]
  },
  {
   "cell_type": "code",
   "execution_count": 4,
   "metadata": {},
   "outputs": [],
   "source": [
    "xlsx_pos = r\"./lab_testbench/Measurements/TPA_synt.xlsx\"\n",
    "\n",
    "stl_A = r\"./lab_testbench/STL/A.stl\"\n",
    "stl_B = r\"./lab_testbench/STL/B.stl\"\n",
    "stl_AB = r\"./lab_testbench/STL/AB.stl\"\n",
    "\n",
    "df_acc_AB = pd.read_excel(xlsx_pos, sheet_name='Sensors_AB')\n",
    "df_chn_AB = pd.read_excel(xlsx_pos, sheet_name='Channels_AB')\n",
    "df_imp_AB = pd.read_excel(xlsx_pos, sheet_name='Impacts_AB')\n",
    "\n",
    "df_vp = pd.read_excel(xlsx_pos, sheet_name='VP_Channels')\n",
    "df_vpref = pd.read_excel(xlsx_pos, sheet_name='VP_RefChannels')"
   ]
  },
  {
   "cell_type": "markdown",
   "metadata": {},
   "source": [
    "## Numerical model"
   ]
  },
  {
   "cell_type": "markdown",
   "metadata": {},
   "source": [
    "Load the corresponding .full and .ress file from the example datasets:"
   ]
  },
  {
   "cell_type": "code",
   "execution_count": 5,
   "metadata": {},
   "outputs": [],
   "source": [
    "full_file_AB = r\"./lab_testbench/FEM/AB.full\"\n",
    "ress_file_AB = r\"./lab_testbench/FEM/AB.rst\""
   ]
  },
  {
   "cell_type": "markdown",
   "metadata": {},
   "source": [
    " Create an MK model for each component:"
   ]
  },
  {
   "cell_type": "code",
   "execution_count": 6,
   "metadata": {},
   "outputs": [
    {
     "name": "stderr",
     "output_type": "stream",
     "text": [
      "C:\\Users\\tomaz.bregar\\Anaconda3\\lib\\site-packages\\pyvista\\core\\pointset.py:610: UserWarning: VTK 9 no longer accepts an offset array\n",
      "  warnings.warn('VTK 9 no longer accepts an offset array')\n"
     ]
    }
   ],
   "source": [
    "MK_AB = pyFBS.MK_model(ress_file_AB, full_file_AB, no_modes=100, recalculate=False)"
   ]
  },
  {
   "cell_type": "markdown",
   "metadata": {},
   "source": [
    "The locations and directions of responses and excitations often do not match exactly with the numerical model, so we need to find the nodes closest to these points. Only the locations are updated, the directions remain the same."
   ]
  },
  {
   "cell_type": "code",
   "execution_count": 7,
   "metadata": {},
   "outputs": [],
   "source": [
    "df_chn_AB_up = MK_AB.update_locations_df(df_chn_AB)\n",
    "df_imp_AB_up = MK_AB.update_locations_df(df_imp_AB)"
   ]
  },
  {
   "cell_type": "markdown",
   "metadata": {},
   "source": [
    "## 3D view"
   ]
  },
  {
   "cell_type": "markdown",
   "metadata": {},
   "source": [
    "Open 3D viewer in the background. With the 3D viewer the subplot capabilities of PyVista can be used."
   ]
  },
  {
   "cell_type": "code",
   "execution_count": 8,
   "metadata": {},
   "outputs": [],
   "source": [
    "view3D = pyFBS.view3D(show_origin=False, show_axes=False, title=\"TPA\")"
   ]
  },
  {
   "cell_type": "markdown",
   "metadata": {},
   "source": [
    "Add the STL file of structure AB to the plot and show the corresponding accelerometer, channels and impacts."
   ]
  },
  {
   "cell_type": "code",
   "execution_count": 9,
   "metadata": {},
   "outputs": [],
   "source": [
    "view3D.plot.add_text(\"AB\", position='upper_left', font_size=10, color=\"k\", font=\"times\", name=\"AB_structure\")\n",
    "\n",
    "view3D.add_stl(stl_AB, name=\"AB_structure\", color=\"#8FB1CC\", opacity=.1)\n",
    "view3D.plot.add_mesh(MK_AB.mesh, scalars=np.zeros(MK_AB.mesh.points.shape[0]), show_scalar_bar=False, name=\"mesh_AB\", cmap=\"coolwarm\", show_edges=True)\n",
    "view3D.show_chn(df_chn_AB_up, color=\"green\", overwrite=True)\n",
    "view3D.show_imp(df_imp_AB_up, color=\"red\", overwrite=True);\n",
    "view3D.show_acc(df_acc_AB, overwrite=True)\n",
    "view3D.show_vp(df_vp, color=\"blue\", overwrite=True)\n",
    "\n",
    "view3D.label_imp(df_imp_AB_up)\n",
    "view3D.label_acc(df_acc_AB)"
   ]
  },
  {
   "cell_type": "markdown",
   "metadata": {},
   "source": [
    "## FRF sythetization"
   ]
  },
  {
   "cell_type": "markdown",
   "metadata": {},
   "source": [
    " Perform the FRF sythetization for each component based on the updated locations:"
   ]
  },
  {
   "cell_type": "code",
   "execution_count": 10,
   "metadata": {},
   "outputs": [],
   "source": [
    "MK_AB.FRF_synth(df_chn_AB_up, df_imp_AB_up, f_start=0, modal_damping=0.003, frf_type=\"accelerance\")"
   ]
  },
  {
   "cell_type": "markdown",
   "metadata": {},
   "source": [
    "First, structural admittance $\\boldsymbol{\\text{Y}}_{31}^{\\text{AB}}$ is obtained."
   ]
  },
  {
   "cell_type": "code",
   "execution_count": 11,
   "metadata": {},
   "outputs": [
    {
     "data": {
      "text/plain": [
       "(2000, 3, 1)"
      ]
     },
     "execution_count": 11,
     "metadata": {},
     "output_type": "execute_result"
    }
   ],
   "source": [
    "imp_loc = 10\n",
    "\n",
    "Y31_AB = MK_AB.FRF[:, 9:12, imp_loc:imp_loc+1]\n",
    "Y31_AB.shape"
   ]
  },
  {
   "cell_type": "markdown",
   "metadata": {},
   "source": [
    "Then, structural admittance $\\boldsymbol{\\text{Y}}_{41}^{\\text{AB}}$ is obtained."
   ]
  },
  {
   "cell_type": "code",
   "execution_count": 12,
   "metadata": {},
   "outputs": [
    {
     "data": {
      "text/plain": [
       "(2000, 9, 1)"
      ]
     },
     "execution_count": 12,
     "metadata": {},
     "output_type": "execute_result"
    }
   ],
   "source": [
    "Y41_AB = MK_AB.FRF[:, :9, imp_loc:imp_loc+1]\n",
    "Y41_AB.shape"
   ]
  },
  {
   "cell_type": "markdown",
   "metadata": {},
   "source": [
    "## Aplication of the FRF based TPA"
   ]
  },
  {
   "cell_type": "markdown",
   "metadata": {},
   "source": [
    "Calculation of transmissibility matrix $\\boldsymbol{\\text{T}}_{34, f_1}^{\\text{AB}}$:"
   ]
  },
  {
   "cell_type": "code",
   "execution_count": 13,
   "metadata": {},
   "outputs": [
    {
     "data": {
      "text/plain": [
       "(2000, 3, 9)"
      ]
     },
     "execution_count": 13,
     "metadata": {},
     "output_type": "execute_result"
    }
   ],
   "source": [
    "T34 = Y31_AB @ np.linalg.pinv(Y41_AB)\n",
    "T34.shape"
   ]
  },
  {
   "cell_type": "markdown",
   "metadata": {},
   "source": [
    "Define operational displacements $\\boldsymbol{\\text{u}}_4$:"
   ]
  },
  {
   "cell_type": "code",
   "execution_count": 14,
   "metadata": {},
   "outputs": [
    {
     "data": {
      "text/plain": [
       "(2000, 9, 1)"
      ]
     },
     "execution_count": 14,
     "metadata": {},
     "output_type": "execute_result"
    }
   ],
   "source": [
    "u4 = MK_AB.FRF[:, :9, imp_loc:imp_loc+1]\n",
    "u4.shape"
   ]
  },
  {
   "cell_type": "markdown",
   "metadata": {},
   "source": [
    "Calcualting response $\\boldsymbol{\\text{u}}_3^{\\text{TPA}}$."
   ]
  },
  {
   "cell_type": "code",
   "execution_count": 15,
   "metadata": {},
   "outputs": [
    {
     "data": {
      "text/plain": [
       "(2000, 3, 1)"
      ]
     },
     "execution_count": 15,
     "metadata": {},
     "output_type": "execute_result"
    }
   ],
   "source": [
    "u3 = T34 @ u4\n",
    "u3.shape"
   ]
  },
  {
   "cell_type": "markdown",
   "metadata": {},
   "source": [
    "On board validation: comparison of predicted $\\boldsymbol{\\text{u}}_{3}^{\\text{TPA}}$ and operational $\\boldsymbol{\\text{u}}_{3}^{\\text{MK}}$:"
   ]
  },
  {
   "cell_type": "code",
   "execution_count": 16,
   "metadata": {},
   "outputs": [
    {
     "data": {
      "image/png": "[encoded data removed]",
      "text/plain": [
       "<Figure size 720x360 with 2 Axes>"
      ]
     },
     "metadata": {
      "needs_background": "light"
     },
     "output_type": "display_data"
    }
   ],
   "source": [
    "plt.figure(figsize=(10, 5))\n",
    "\n",
    "u3_MK = MK_AB.FRF[:, 9:12, imp_loc:imp_loc+1]\n",
    "sel = 0\n",
    "\n",
    "plt.subplot(211)\n",
    "plt.semilogy(np.abs(u3_MK[:,sel,0]), label='MK');\n",
    "plt.semilogy(np.abs(u3[:,sel,0]), '--', label='TPA');\n",
    "plt.ylim(10**-8, 10**4);\n",
    "plt.xlim(0, 2000)\n",
    "plt.legend(loc=0);\n",
    "\n",
    "plt.subplot(413)\n",
    "plt.plot(np.angle(u3_MK[:,sel,0]));\n",
    "plt.plot(np.angle(u3[:,sel,0]), '--');\n",
    "plt.xlim(0, 2000);"
   ]
  }
 ],
 "metadata": {
  "kernelspec": {
   "display_name": "Python 3",
   "language": "python",
   "name": "python3"
  },
  "language_info": {
   "codemirror_mode": {
    "name": "ipython",
    "version": 3
   },
   "file_extension": ".py",
   "mimetype": "text/x-python",
   "name": "python",
   "nbconvert_exporter": "python",
   "pygments_lexer": "ipython3",
   "version": "3.8.3"
  }
 },
 "nbformat": 4,
 "nbformat_minor": 4
}
